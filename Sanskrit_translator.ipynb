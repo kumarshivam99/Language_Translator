{
  "nbformat": 4,
  "nbformat_minor": 0,
  "metadata": {
    "colab": {
      "name": "Sanskrit_translator.ipynb",
      "provenance": [],
      "collapsed_sections": [],
      "include_colab_link": true
    },
    "kernelspec": {
      "name": "python3",
      "display_name": "Python 3"
    },
    "accelerator": "GPU"
  },
  "cells": [
    {
      "cell_type": "markdown",
      "metadata": {
        "id": "view-in-github",
        "colab_type": "text"
      },
      "source": [
        "<a href=\"https://colab.research.google.com/github/kumarshivam99/Language_Translator/blob/main/Sanskrit_translator.ipynb\" target=\"_parent\"><img src=\"https://colab.research.google.com/assets/colab-badge.svg\" alt=\"Open In Colab\"/></a>"
      ]
    },
    {
      "cell_type": "code",
      "metadata": {
        "id": "fNPgKvZr-OyA",
        "outputId": "97acbe1e-bc1a-42b1-b25b-b451294e62b8",
        "colab": {
          "base_uri": "https://localhost:8080/",
          "height": 50
        }
      },
      "source": [
        "import pandas as pd\n",
        "import numpy as np\n",
        "import string\n",
        "from string import digits\n",
        "import matplotlib.pyplot as plt\n",
        "%matplotlib inline\n",
        "import re\n",
        "from sklearn.utils import shuffle\n",
        "from sklearn.model_selection import train_test_split\n",
        "%tensorflow_version 1.x\n",
        "import tensorflow as tf\n",
        "import keras\n",
        "from keras.layers import Input\n",
        "from keras.layers import LSTM\n",
        "from keras.layers import Embedding\n",
        "from keras.layers import Dropout\n",
        "from keras.layers import Dense\n",
        "from keras.models import Model"
      ],
      "execution_count": null,
      "outputs": [
        {
          "output_type": "stream",
          "text": [
            "TensorFlow 1.x selected.\n"
          ],
          "name": "stdout"
        },
        {
          "output_type": "stream",
          "text": [
            "Using TensorFlow backend.\n"
          ],
          "name": "stderr"
        }
      ]
    },
    {
      "cell_type": "code",
      "metadata": {
        "id": "A4-Bjx23WSYX"
      },
      "source": [
        "from IPython.core.interactiveshell import InteractiveShell\n",
        "InteractiveShell.ast_node_interactivity = \"all\""
      ],
      "execution_count": null,
      "outputs": []
    },
    {
      "cell_type": "code",
      "metadata": {
        "id": "0I7EV8gyAbs9",
        "outputId": "9a3cb217-496a-4666-d26d-a6782177dff3",
        "colab": {
          "base_uri": "https://localhost:8080/",
          "height": 121
        }
      },
      "source": [
        "from google.colab import drive\n",
        "drive.mount('/content/drive')\n"
      ],
      "execution_count": null,
      "outputs": [
        {
          "output_type": "stream",
          "text": [
            "Go to this URL in a browser: https://accounts.google.com/o/oauth2/auth?client_id=947318989803-6bn6qk8qdgf4n4g3pfee6491hc0brc4i.apps.googleusercontent.com&redirect_uri=urn%3aietf%3awg%3aoauth%3a2.0%3aoob&response_type=code&scope=email%20https%3a%2f%2fwww.googleapis.com%2fauth%2fdocs.test%20https%3a%2f%2fwww.googleapis.com%2fauth%2fdrive%20https%3a%2f%2fwww.googleapis.com%2fauth%2fdrive.photos.readonly%20https%3a%2f%2fwww.googleapis.com%2fauth%2fpeopleapi.readonly\n",
            "\n",
            "Enter your authorization code:\n",
            "··········\n",
            "Mounted at /content/drive\n"
          ],
          "name": "stdout"
        }
      ]
    },
    {
      "cell_type": "code",
      "metadata": {
        "id": "gPjKS3og_1Gg",
        "outputId": "db81c6ba-871c-41b7-dcb1-593b6abe7162",
        "colab": {
          "base_uri": "https://localhost:8080/",
          "height": 34
        }
      },
      "source": [
        "%cd ../"
      ],
      "execution_count": null,
      "outputs": [
        {
          "output_type": "stream",
          "text": [
            "/\n"
          ],
          "name": "stdout"
        }
      ]
    },
    {
      "cell_type": "code",
      "metadata": {
        "id": "MahA1mH5_7nL",
        "outputId": "a2989ea1-56d5-49ba-feeb-f3d3f5143b83",
        "colab": {
          "base_uri": "https://localhost:8080/",
          "height": 134
        }
      },
      "source": [
        "%ls"
      ],
      "execution_count": null,
      "outputs": [
        {
          "output_type": "stream",
          "text": [
            "\u001b[0m\u001b[01;34mbin\u001b[0m/                                       \u001b[01;34metc\u001b[0m/    \u001b[01;34mopt\u001b[0m/    \u001b[01;34msys\u001b[0m/\n",
            "\u001b[01;34mboot\u001b[0m/                                      \u001b[01;34mhome\u001b[0m/   \u001b[01;34mproc\u001b[0m/   \u001b[01;34mtensorflow-1.15.2\u001b[0m/\n",
            "\u001b[01;34mcontent\u001b[0m/                                   \u001b[01;34mlib\u001b[0m/    \u001b[01;34mroot\u001b[0m/   \u001b[30;42mtmp\u001b[0m/\n",
            "\u001b[01;34mdatalab\u001b[0m/                                   \u001b[01;34mlib32\u001b[0m/  \u001b[01;34mrun\u001b[0m/    \u001b[01;34mtools\u001b[0m/\n",
            "\u001b[01;34mdev\u001b[0m/                                       \u001b[01;34mlib64\u001b[0m/  \u001b[01;34msbin\u001b[0m/   \u001b[01;34musr\u001b[0m/\n",
            "dlib-19.18.0-cp27-cp27mu-linux_x86_64.whl  \u001b[01;34mmedia\u001b[0m/  \u001b[01;34msrv\u001b[0m/    \u001b[01;34mvar\u001b[0m/\n",
            "dlib-19.18.0-cp36-cp36m-linux_x86_64.whl   \u001b[01;34mmnt\u001b[0m/    \u001b[01;34mswift\u001b[0m/\n"
          ],
          "name": "stdout"
        }
      ]
    },
    {
      "cell_type": "code",
      "metadata": {
        "id": "HS9Iyn1VAT6f",
        "outputId": "0554de33-d742-4cf7-fa2e-e5de517c63f8",
        "colab": {
          "base_uri": "https://localhost:8080/",
          "height": 34
        }
      },
      "source": [
        "%cd /content/drive/My Drive"
      ],
      "execution_count": null,
      "outputs": [
        {
          "output_type": "stream",
          "text": [
            "/content/drive/My Drive\n"
          ],
          "name": "stdout"
        }
      ]
    },
    {
      "cell_type": "code",
      "metadata": {
        "id": "6mDvi9FLCwc1"
      },
      "source": [
        "df= pd.read_csv('/content/drive/My Drive/sanskrit/processed_data/sanskrit_dataset.csv', names=['eng','sans' ])"
      ],
      "execution_count": null,
      "outputs": []
    },
    {
      "cell_type": "code",
      "metadata": {
        "id": "iw2VUfeRz726",
        "outputId": "55e4ec79-4413-440d-961f-e5816c26db52",
        "colab": {
          "base_uri": "https://localhost:8080/",
          "height": 402
        }
      },
      "source": [
        "lines=df.copy()\n",
        "lines"
      ],
      "execution_count": null,
      "outputs": [
        {
          "output_type": "execute_result",
          "data": {
            "text/html": [
              "<div>\n",
              "<style scoped>\n",
              "    .dataframe tbody tr th:only-of-type {\n",
              "        vertical-align: middle;\n",
              "    }\n",
              "\n",
              "    .dataframe tbody tr th {\n",
              "        vertical-align: top;\n",
              "    }\n",
              "\n",
              "    .dataframe thead th {\n",
              "        text-align: right;\n",
              "    }\n",
              "</style>\n",
              "<table border=\"1\" class=\"dataframe\">\n",
              "  <thead>\n",
              "    <tr style=\"text-align: right;\">\n",
              "      <th></th>\n",
              "      <th>eng</th>\n",
              "      <th>sans</th>\n",
              "    </tr>\n",
              "  </thead>\n",
              "  <tbody>\n",
              "    <tr>\n",
              "      <th>0</th>\n",
              "      <td>Have seen my pen?</td>\n",
              "      <td>भवती मम लेखनीं दृष्टवती वा?</td>\n",
              "    </tr>\n",
              "    <tr>\n",
              "      <th>1</th>\n",
              "      <td>Why?! Haven't you seen it?</td>\n",
              "      <td>किमर्थं?! न दृश्यते वा?</td>\n",
              "    </tr>\n",
              "    <tr>\n",
              "      <th>2</th>\n",
              "      <td>Not at all!</td>\n",
              "      <td>सत्यं न दृश्यते एव।</td>\n",
              "    </tr>\n",
              "    <tr>\n",
              "      <th>3</th>\n",
              "      <td>About a five minutes ago, I have seen it just ...</td>\n",
              "      <td>पञ्चनिमिशात् पूर्वं अहम् अत्रैव दृष्टवती खलु।</td>\n",
              "    </tr>\n",
              "    <tr>\n",
              "      <th>4</th>\n",
              "      <td>After I had written, I had kept it on the top ...</td>\n",
              "      <td>आम्, अहं लिखित्वा अत्रैव मम स्यूतस्य उपरि एव स...</td>\n",
              "    </tr>\n",
              "    <tr>\n",
              "      <th>...</th>\n",
              "      <td>...</td>\n",
              "      <td>...</td>\n",
              "    </tr>\n",
              "    <tr>\n",
              "      <th>14547</th>\n",
              "      <td>'O noble lady the lions among men, Rama and La...</td>\n",
              "      <td>मम पृष्ठगतौ तौ च चन्द्रसूर्याविवोदितौ।त्वत्सका...</td>\n",
              "    </tr>\n",
              "    <tr>\n",
              "      <th>14548</th>\n",
              "      <td>'You will see the lionlike Rama, a slayer of e...</td>\n",
              "      <td>अरिघ्नं सिंहसङ्काशं क्षिप्रं द्रक्ष्यसि राघवम्...</td>\n",
              "    </tr>\n",
              "    <tr>\n",
              "      <th>14549</th>\n",
              "      <td>'You will hear before long the shouts of gener...</td>\n",
              "      <td>नखदंष्ट्रायुधान् वीरान् सिंहशार्दूलविक्रमान्।व...</td>\n",
              "    </tr>\n",
              "    <tr>\n",
              "      <th>14550</th>\n",
              "      <td>'You will soon see Rama, the slayer of enemies...</td>\n",
              "      <td>निवृत्तवनवासं च त्वया सार्धमरिन्दमम्।अभिषिक्तम...</td>\n",
              "    </tr>\n",
              "    <tr>\n",
              "      <th>14551</th>\n",
              "      <td>\"Sita though afflicted heard from me that you ...</td>\n",
              "      <td>ततो मया वाग्भिरदीनभाषिणा शिवाभिरिष्टाभिरभिप्रस...</td>\n",
              "    </tr>\n",
              "  </tbody>\n",
              "</table>\n",
              "<p>14552 rows × 2 columns</p>\n",
              "</div>"
            ],
            "text/plain": [
              "                                                     eng                                               sans\n",
              "0                                      Have seen my pen?                        भवती मम लेखनीं दृष्टवती वा?\n",
              "1                            Why?! Haven't you seen it?                             किमर्थं?! न दृश्यते वा?\n",
              "2                                            Not at all!                                सत्यं न दृश्यते एव।\n",
              "3      About a five minutes ago, I have seen it just ...      पञ्चनिमिशात् पूर्वं अहम् अत्रैव दृष्टवती खलु।\n",
              "4      After I had written, I had kept it on the top ...  आम्, अहं लिखित्वा अत्रैव मम स्यूतस्य उपरि एव स...\n",
              "...                                                  ...                                                ...\n",
              "14547  'O noble lady the lions among men, Rama and La...  मम पृष्ठगतौ तौ च चन्द्रसूर्याविवोदितौ।त्वत्सका...\n",
              "14548  'You will see the lionlike Rama, a slayer of e...  अरिघ्नं सिंहसङ्काशं क्षिप्रं द्रक्ष्यसि राघवम्...\n",
              "14549  'You will hear before long the shouts of gener...  नखदंष्ट्रायुधान् वीरान् सिंहशार्दूलविक्रमान्।व...\n",
              "14550  'You will soon see Rama, the slayer of enemies...  निवृत्तवनवासं च त्वया सार्धमरिन्दमम्।अभिषिक्तम...\n",
              "14551  \"Sita though afflicted heard from me that you ...  ततो मया वाग्भिरदीनभाषिणा शिवाभिरिष्टाभिरभिप्रस...\n",
              "\n",
              "[14552 rows x 2 columns]"
            ]
          },
          "metadata": {
            "tags": []
          },
          "execution_count": 8
        }
      ]
    },
    {
      "cell_type": "code",
      "metadata": {
        "id": "efcSksM4ClMe",
        "outputId": "9bcd6292-e3ac-495d-96a7-807bd464f133",
        "colab": {
          "base_uri": "https://localhost:8080/",
          "height": 168
        }
      },
      "source": [
        "lines.info()"
      ],
      "execution_count": null,
      "outputs": [
        {
          "output_type": "stream",
          "text": [
            "<class 'pandas.core.frame.DataFrame'>\n",
            "RangeIndex: 14552 entries, 0 to 14551\n",
            "Data columns (total 2 columns):\n",
            " #   Column  Non-Null Count  Dtype \n",
            "---  ------  --------------  ----- \n",
            " 0   eng     14365 non-null  object\n",
            " 1   sans    14549 non-null  object\n",
            "dtypes: object(2)\n",
            "memory usage: 227.5+ KB\n"
          ],
          "name": "stdout"
        }
      ]
    },
    {
      "cell_type": "code",
      "metadata": {
        "id": "6xVn-_SACz3E"
      },
      "source": [
        "lines.dropna(inplace=True)\n",
        "\n",
        "lines=lines.reset_index(drop=True) \n",
        "\n"
      ],
      "execution_count": null,
      "outputs": []
    },
    {
      "cell_type": "code",
      "metadata": {
        "id": "7mEGUG0TD0Ac",
        "outputId": "34112d19-9dfc-4c2c-fac2-21b62c9538db",
        "colab": {
          "base_uri": "https://localhost:8080/",
          "height": 34
        }
      },
      "source": [
        "lines.shape"
      ],
      "execution_count": null,
      "outputs": [
        {
          "output_type": "execute_result",
          "data": {
            "text/plain": [
              "(14365, 2)"
            ]
          },
          "metadata": {
            "tags": []
          },
          "execution_count": 11
        }
      ]
    },
    {
      "cell_type": "code",
      "metadata": {
        "id": "L37Tm1k2_LiT"
      },
      "source": [
        "def text_preprocessing_eng(lines):\n",
        "  lines=lines.apply(lambda x: x.lower())\n",
        "  lines=lines.apply(lambda x: re.sub(\"'\", '', x))\n",
        "  exclude = set(string.punctuation) # Set of all special characters\n",
        "  lines=lines.apply(lambda x: ''.join(ch for ch in x if ch not in exclude))\n",
        "  remove_digits = str.maketrans('', '', digits)\n",
        "  lines=lines.apply(lambda x: x.translate(remove_digits))\n",
        "  lines = lines.apply(lambda x: re.sub(\"[२३०८१५७९४६।]\", \"\", x))\n",
        "  lines=lines.apply(lambda x: x.strip())\n",
        "  lines=lines.apply(lambda x: re.sub(\" +\", \" \", x))\n",
        "  return lines"
      ],
      "execution_count": null,
      "outputs": []
    },
    {
      "cell_type": "code",
      "metadata": {
        "id": "-1xwIuAp_eOn"
      },
      "source": [
        "exclude2 = {'!','\"','#', '\\n','॥॥','','$','%','&',\"'\",'(',')','*','+',',','-','.','/',';','<','=','>','?','@','[','\\\\',']','^','_','`','{','|', '}', '~'}"
      ],
      "execution_count": null,
      "outputs": []
    },
    {
      "cell_type": "code",
      "metadata": {
        "id": "w0AQWQ7J_lpU"
      },
      "source": [
        "def text_preprocessing_sans(lines):\n",
        "  lines=lines.apply(lambda x: x.lower())\n",
        "  lines=lines.apply(lambda x: re.sub(\"'\", '', x))\n",
        "  #exclude = set(string.punctuation) # Set of all special characters\n",
        "  lines=lines.apply(lambda x: ''.join(ch for ch in x if ch not in exclude2))\n",
        "  remove_digits = str.maketrans('', '', digits)\n",
        "  lines=lines.apply(lambda x: x.translate(remove_digits))\n",
        "  lines = lines.apply(lambda x: re.sub(\"[२३०८१५७९४६।]\", \"\", x))\n",
        "  lines=lines.apply(lambda x: x.strip())\n",
        "  lines=lines.apply(lambda x: re.sub(\" +\", \" \", x))\n",
        "  return lines"
      ],
      "execution_count": null,
      "outputs": []
    },
    {
      "cell_type": "code",
      "metadata": {
        "id": "wu0tfU3C_4Tv",
        "outputId": "518e2a3c-e642-4b67-a39d-0e593092b86a",
        "colab": {
          "base_uri": "https://localhost:8080/",
          "height": 402
        }
      },
      "source": [
        "lines.eng=text_preprocessing_eng(lines.eng.astype(str))\n",
        "lines.sans=text_preprocessing_sans(lines.sans.astype(str))\n",
        "\n",
        "lines"
      ],
      "execution_count": null,
      "outputs": [
        {
          "output_type": "execute_result",
          "data": {
            "text/html": [
              "<div>\n",
              "<style scoped>\n",
              "    .dataframe tbody tr th:only-of-type {\n",
              "        vertical-align: middle;\n",
              "    }\n",
              "\n",
              "    .dataframe tbody tr th {\n",
              "        vertical-align: top;\n",
              "    }\n",
              "\n",
              "    .dataframe thead th {\n",
              "        text-align: right;\n",
              "    }\n",
              "</style>\n",
              "<table border=\"1\" class=\"dataframe\">\n",
              "  <thead>\n",
              "    <tr style=\"text-align: right;\">\n",
              "      <th></th>\n",
              "      <th>eng</th>\n",
              "      <th>sans</th>\n",
              "    </tr>\n",
              "  </thead>\n",
              "  <tbody>\n",
              "    <tr>\n",
              "      <th>0</th>\n",
              "      <td>have seen my pen</td>\n",
              "      <td>भवती मम लेखनीं दृष्टवती वा</td>\n",
              "    </tr>\n",
              "    <tr>\n",
              "      <th>1</th>\n",
              "      <td>why havent you seen it</td>\n",
              "      <td>किमर्थं न दृश्यते वा</td>\n",
              "    </tr>\n",
              "    <tr>\n",
              "      <th>2</th>\n",
              "      <td>not at all</td>\n",
              "      <td>सत्यं न दृश्यते एव</td>\n",
              "    </tr>\n",
              "    <tr>\n",
              "      <th>3</th>\n",
              "      <td>about a five minutes ago i have seen it just here</td>\n",
              "      <td>पञ्चनिमिशात् पूर्वं अहम् अत्रैव दृष्टवती खलु</td>\n",
              "    </tr>\n",
              "    <tr>\n",
              "      <th>4</th>\n",
              "      <td>after i had written i had kept it on the top o...</td>\n",
              "      <td>आम् अहं लिखित्वा अत्रैव मम स्यूतस्य उपरि एव स्...</td>\n",
              "    </tr>\n",
              "    <tr>\n",
              "      <th>...</th>\n",
              "      <td>...</td>\n",
              "      <td>...</td>\n",
              "    </tr>\n",
              "    <tr>\n",
              "      <th>14360</th>\n",
              "      <td>o noble lady the lions among men rama and laks...</td>\n",
              "      <td>मम पृष्ठगतौ तौ च चन्द्रसूर्याविवोदितौत्वत्सकाश...</td>\n",
              "    </tr>\n",
              "    <tr>\n",
              "      <th>14361</th>\n",
              "      <td>you will see the lionlike rama a slayer of ene...</td>\n",
              "      <td>अरिघ्नं सिंहसङ्काशं क्षिप्रं द्रक्ष्यसि राघवम्...</td>\n",
              "    </tr>\n",
              "    <tr>\n",
              "      <th>14362</th>\n",
              "      <td>you will hear before long the shouts of genera...</td>\n",
              "      <td>नखदंष्ट्रायुधान् वीरान् सिंहशार्दूलविक्रमान्वा...</td>\n",
              "    </tr>\n",
              "    <tr>\n",
              "      <th>14363</th>\n",
              "      <td>you will soon see rama the slayer of enemies c...</td>\n",
              "      <td>निवृत्तवनवासं च त्वया सार्धमरिन्दमम्अभिषिक्तमय...</td>\n",
              "    </tr>\n",
              "    <tr>\n",
              "      <th>14364</th>\n",
              "      <td>sita though afflicted heard from me that you w...</td>\n",
              "      <td>ततो मया वाग्भिरदीनभाषिणा शिवाभिरिष्टाभिरभिप्रस...</td>\n",
              "    </tr>\n",
              "  </tbody>\n",
              "</table>\n",
              "<p>14365 rows × 2 columns</p>\n",
              "</div>"
            ],
            "text/plain": [
              "                                                     eng                                               sans\n",
              "0                                       have seen my pen                         भवती मम लेखनीं दृष्टवती वा\n",
              "1                                 why havent you seen it                               किमर्थं न दृश्यते वा\n",
              "2                                             not at all                                 सत्यं न दृश्यते एव\n",
              "3      about a five minutes ago i have seen it just here       पञ्चनिमिशात् पूर्वं अहम् अत्रैव दृष्टवती खलु\n",
              "4      after i had written i had kept it on the top o...  आम् अहं लिखित्वा अत्रैव मम स्यूतस्य उपरि एव स्...\n",
              "...                                                  ...                                                ...\n",
              "14360  o noble lady the lions among men rama and laks...  मम पृष्ठगतौ तौ च चन्द्रसूर्याविवोदितौत्वत्सकाश...\n",
              "14361  you will see the lionlike rama a slayer of ene...  अरिघ्नं सिंहसङ्काशं क्षिप्रं द्रक्ष्यसि राघवम्...\n",
              "14362  you will hear before long the shouts of genera...  नखदंष्ट्रायुधान् वीरान् सिंहशार्दूलविक्रमान्वा...\n",
              "14363  you will soon see rama the slayer of enemies c...  निवृत्तवनवासं च त्वया सार्धमरिन्दमम्अभिषिक्तमय...\n",
              "14364  sita though afflicted heard from me that you w...  ततो मया वाग्भिरदीनभाषिणा शिवाभिरिष्टाभिरभिप्रस...\n",
              "\n",
              "[14365 rows x 2 columns]"
            ]
          },
          "metadata": {
            "tags": []
          },
          "execution_count": 15
        }
      ]
    },
    {
      "cell_type": "code",
      "metadata": {
        "id": "d6iMIRiY_4P9",
        "outputId": "ae5efe1a-607a-4dc7-8ecd-ea4ae2f9827a",
        "colab": {
          "base_uri": "https://localhost:8080/",
          "height": 34
        }
      },
      "source": [
        "lines.iloc[2319,1]"
      ],
      "execution_count": null,
      "outputs": [
        {
          "output_type": "execute_result",
          "data": {
            "text/plain": [
              "'बहवो दुर्लभाश्चैव ये त्वया कीर्तिता गुणा: मुने वक्ष्याम्यहं बुद्ध्वा तैर्युक्तश्श्रूयतान्नर:'"
            ]
          },
          "metadata": {
            "tags": []
          },
          "execution_count": 103
        }
      ]
    },
    {
      "cell_type": "code",
      "metadata": {
        "id": "gzTKOpXHB8p_",
        "outputId": "a5353ad5-6857-4e70-d27d-ebfb6dc90ee5",
        "colab": {
          "base_uri": "https://localhost:8080/",
          "height": 54
        }
      },
      "source": [
        "lines.iloc[11216,0]"
      ],
      "execution_count": null,
      "outputs": [
        {
          "output_type": "execute_result",
          "data": {
            "text/plain": [
              "'o subduer of enemies speak in this way lakshmana the dear younger brother of rama has come to you and waits for your presence at the entrance burning in grief of his elder brother well if you like to hear his words do as you please return swiftly after saying so'"
            ]
          },
          "metadata": {
            "tags": []
          },
          "execution_count": 104
        }
      ]
    },
    {
      "cell_type": "code",
      "metadata": {
        "id": "Vd6EVBfJ_4Nm",
        "outputId": "53f58f26-c91d-45da-90c4-462ae8337cef",
        "colab": {
          "base_uri": "https://localhost:8080/",
          "height": 34
        }
      },
      "source": [
        "len_list_sans=[]\n",
        "for l in lines.sans:\n",
        "    len_list_sans.append(len(l.split(' ')))\n",
        "max_length_scr = np.max(len_list_sans)\n",
        "max_length_scr"
      ],
      "execution_count": null,
      "outputs": [
        {
          "output_type": "execute_result",
          "data": {
            "text/plain": [
              "56"
            ]
          },
          "metadata": {
            "tags": []
          },
          "execution_count": 16
        }
      ]
    },
    {
      "cell_type": "code",
      "metadata": {
        "id": "cDvNaADd9d6C"
      },
      "source": [
        "#word English\n",
        "all_eng_words=set()\n",
        "for eng in lines.eng:\n",
        "    for word in eng.split():\n",
        "        if word not in all_eng_words:\n",
        "            all_eng_words.add(word)\n",
        "\n",
        "input_words = sorted(list(all_eng_words))            "
      ],
      "execution_count": null,
      "outputs": []
    },
    {
      "cell_type": "code",
      "metadata": {
        "id": "MFRGqAP49d2A",
        "colab": {
          "base_uri": "https://localhost:8080/",
          "height": 402
        },
        "outputId": "fcf39bb9-c026-4686-a998-bcdd7e8d5092"
      },
      "source": [
        "input_word=pd.DataFrame(input_words)\n",
        "input_word"
      ],
      "execution_count": null,
      "outputs": [
        {
          "output_type": "execute_result",
          "data": {
            "text/html": [
              "<div>\n",
              "<style scoped>\n",
              "    .dataframe tbody tr th:only-of-type {\n",
              "        vertical-align: middle;\n",
              "    }\n",
              "\n",
              "    .dataframe tbody tr th {\n",
              "        vertical-align: top;\n",
              "    }\n",
              "\n",
              "    .dataframe thead th {\n",
              "        text-align: right;\n",
              "    }\n",
              "</style>\n",
              "<table border=\"1\" class=\"dataframe\">\n",
              "  <thead>\n",
              "    <tr style=\"text-align: right;\">\n",
              "      <th></th>\n",
              "      <th>0</th>\n",
              "    </tr>\n",
              "  </thead>\n",
              "  <tbody>\n",
              "    <tr>\n",
              "      <th>0</th>\n",
              "      <td>a</td>\n",
              "    </tr>\n",
              "    <tr>\n",
              "      <th>1</th>\n",
              "      <td>aback</td>\n",
              "    </tr>\n",
              "    <tr>\n",
              "      <th>2</th>\n",
              "      <td>abandon</td>\n",
              "    </tr>\n",
              "    <tr>\n",
              "      <th>3</th>\n",
              "      <td>abandoned</td>\n",
              "    </tr>\n",
              "    <tr>\n",
              "      <th>4</th>\n",
              "      <td>abandoning</td>\n",
              "    </tr>\n",
              "    <tr>\n",
              "      <th>...</th>\n",
              "      <td>...</td>\n",
              "    </tr>\n",
              "    <tr>\n",
              "      <th>16857</th>\n",
              "      <td>“om”</td>\n",
              "    </tr>\n",
              "    <tr>\n",
              "      <th>16858</th>\n",
              "      <td>“prosper</td>\n",
              "    </tr>\n",
              "    <tr>\n",
              "      <th>16859</th>\n",
              "      <td>“sat”</td>\n",
              "    </tr>\n",
              "    <tr>\n",
              "      <th>16860</th>\n",
              "      <td>“tat”</td>\n",
              "    </tr>\n",
              "    <tr>\n",
              "      <th>16861</th>\n",
              "      <td>“the</td>\n",
              "    </tr>\n",
              "  </tbody>\n",
              "</table>\n",
              "<p>16862 rows × 1 columns</p>\n",
              "</div>"
            ],
            "text/plain": [
              "                0\n",
              "0               a\n",
              "1           aback\n",
              "2         abandon\n",
              "3       abandoned\n",
              "4      abandoning\n",
              "...           ...\n",
              "16857        “om”\n",
              "16858    “prosper\n",
              "16859       “sat”\n",
              "16860       “tat”\n",
              "16861        “the\n",
              "\n",
              "[16862 rows x 1 columns]"
            ]
          },
          "metadata": {
            "tags": []
          },
          "execution_count": 18
        }
      ]
    },
    {
      "cell_type": "code",
      "metadata": {
        "id": "MMdmDqf29zSK"
      },
      "source": [
        "input_word.to_csv('input_word.csv', header=False, index=False, sep=',', mode='a')"
      ],
      "execution_count": null,
      "outputs": []
    },
    {
      "cell_type": "code",
      "metadata": {
        "id": "lsH536db9dv9"
      },
      "source": [
        "from google.colab import files\n",
        "files.download('input_word.csv') "
      ],
      "execution_count": null,
      "outputs": []
    },
    {
      "cell_type": "code",
      "metadata": {
        "id": "Jb1hYbAI_4KB",
        "outputId": "68446e1b-911f-4dfd-f695-eb7a78447f8c",
        "colab": {
          "base_uri": "https://localhost:8080/",
          "height": 34
        }
      },
      "source": [
        "len_list_eng=[]\n",
        "for l in lines.eng:\n",
        "    len_list_eng.append(len(l.split(' ')))\n",
        "max_length_tar = np.max(len_list_eng)\n",
        "max_length_tar"
      ],
      "execution_count": null,
      "outputs": [
        {
          "output_type": "execute_result",
          "data": {
            "text/plain": [
              "227"
            ]
          },
          "metadata": {
            "tags": []
          },
          "execution_count": 106
        }
      ]
    },
    {
      "cell_type": "code",
      "metadata": {
        "id": "XrOMvXZp_4IM",
        "outputId": "5bd96156-b6c9-4547-f548-976a9bc9b6e0",
        "colab": {
          "base_uri": "https://localhost:8080/",
          "height": 402
        }
      },
      "source": [
        "l=lines\n",
        "l[\"sans_len\"]=len_list_sans\n",
        "l[\"eng_len\"]=len_list_eng\n",
        "l"
      ],
      "execution_count": null,
      "outputs": [
        {
          "output_type": "execute_result",
          "data": {
            "text/html": [
              "<div>\n",
              "<style scoped>\n",
              "    .dataframe tbody tr th:only-of-type {\n",
              "        vertical-align: middle;\n",
              "    }\n",
              "\n",
              "    .dataframe tbody tr th {\n",
              "        vertical-align: top;\n",
              "    }\n",
              "\n",
              "    .dataframe thead th {\n",
              "        text-align: right;\n",
              "    }\n",
              "</style>\n",
              "<table border=\"1\" class=\"dataframe\">\n",
              "  <thead>\n",
              "    <tr style=\"text-align: right;\">\n",
              "      <th></th>\n",
              "      <th>eng</th>\n",
              "      <th>sans</th>\n",
              "      <th>sans_len</th>\n",
              "      <th>eng_len</th>\n",
              "    </tr>\n",
              "  </thead>\n",
              "  <tbody>\n",
              "    <tr>\n",
              "      <th>0</th>\n",
              "      <td>have seen my pen</td>\n",
              "      <td>भवती मम लेखनीं दृष्टवती वा</td>\n",
              "      <td>5</td>\n",
              "      <td>4</td>\n",
              "    </tr>\n",
              "    <tr>\n",
              "      <th>1</th>\n",
              "      <td>why havent you seen it</td>\n",
              "      <td>किमर्थं न दृश्यते वा</td>\n",
              "      <td>4</td>\n",
              "      <td>5</td>\n",
              "    </tr>\n",
              "    <tr>\n",
              "      <th>2</th>\n",
              "      <td>not at all</td>\n",
              "      <td>सत्यं न दृश्यते एव</td>\n",
              "      <td>4</td>\n",
              "      <td>3</td>\n",
              "    </tr>\n",
              "    <tr>\n",
              "      <th>3</th>\n",
              "      <td>about a five minutes ago i have seen it just here</td>\n",
              "      <td>पञ्चनिमिशात् पूर्वं अहम् अत्रैव दृष्टवती खलु</td>\n",
              "      <td>6</td>\n",
              "      <td>11</td>\n",
              "    </tr>\n",
              "    <tr>\n",
              "      <th>4</th>\n",
              "      <td>after i had written i had kept it on the top o...</td>\n",
              "      <td>आम् अहं लिखित्वा अत्रैव मम स्यूतस्य उपरि एव स्...</td>\n",
              "      <td>9</td>\n",
              "      <td>13</td>\n",
              "    </tr>\n",
              "    <tr>\n",
              "      <th>...</th>\n",
              "      <td>...</td>\n",
              "      <td>...</td>\n",
              "      <td>...</td>\n",
              "      <td>...</td>\n",
              "    </tr>\n",
              "    <tr>\n",
              "      <th>14360</th>\n",
              "      <td>o noble lady the lions among men rama and laks...</td>\n",
              "      <td>मम पृष्ठगतौ तौ च चन्द्रसूर्याविवोदितौत्वत्सकाश...</td>\n",
              "      <td>7</td>\n",
              "      <td>23</td>\n",
              "    </tr>\n",
              "    <tr>\n",
              "      <th>14361</th>\n",
              "      <td>you will see the lionlike rama a slayer of ene...</td>\n",
              "      <td>अरिघ्नं सिंहसङ्काशं क्षिप्रं द्रक्ष्यसि राघवम्...</td>\n",
              "      <td>8</td>\n",
              "      <td>24</td>\n",
              "    </tr>\n",
              "    <tr>\n",
              "      <th>14362</th>\n",
              "      <td>you will hear before long the shouts of genera...</td>\n",
              "      <td>नखदंष्ट्रायुधान् वीरान् सिंहशार्दूलविक्रमान्वा...</td>\n",
              "      <td>9</td>\n",
              "      <td>27</td>\n",
              "    </tr>\n",
              "    <tr>\n",
              "      <th>14363</th>\n",
              "      <td>you will soon see rama the slayer of enemies c...</td>\n",
              "      <td>निवृत्तवनवासं च त्वया सार्धमरिन्दमम्अभिषिक्तमय...</td>\n",
              "      <td>7</td>\n",
              "      <td>26</td>\n",
              "    </tr>\n",
              "    <tr>\n",
              "      <th>14364</th>\n",
              "      <td>sita though afflicted heard from me that you w...</td>\n",
              "      <td>ततो मया वाग्भिरदीनभाषिणा शिवाभिरिष्टाभिरभिप्रस...</td>\n",
              "      <td>10</td>\n",
              "      <td>54</td>\n",
              "    </tr>\n",
              "  </tbody>\n",
              "</table>\n",
              "<p>14365 rows × 4 columns</p>\n",
              "</div>"
            ],
            "text/plain": [
              "                                                     eng  ... eng_len\n",
              "0                                       have seen my pen  ...       4\n",
              "1                                 why havent you seen it  ...       5\n",
              "2                                             not at all  ...       3\n",
              "3      about a five minutes ago i have seen it just here  ...      11\n",
              "4      after i had written i had kept it on the top o...  ...      13\n",
              "...                                                  ...  ...     ...\n",
              "14360  o noble lady the lions among men rama and laks...  ...      23\n",
              "14361  you will see the lionlike rama a slayer of ene...  ...      24\n",
              "14362  you will hear before long the shouts of genera...  ...      27\n",
              "14363  you will soon see rama the slayer of enemies c...  ...      26\n",
              "14364  sita though afflicted heard from me that you w...  ...      54\n",
              "\n",
              "[14365 rows x 4 columns]"
            ]
          },
          "metadata": {
            "tags": []
          },
          "execution_count": 107
        }
      ]
    },
    {
      "cell_type": "code",
      "metadata": {
        "id": "wVLsTl_F_4ET",
        "outputId": "c186589b-c6bc-4c7d-8c7e-52cbbc8c0332",
        "colab": {
          "base_uri": "https://localhost:8080/",
          "height": 67
        }
      },
      "source": [
        "l['sans_len'].mean()\n",
        "print(\"\\n\")\n",
        "l['eng_len'].mean()"
      ],
      "execution_count": null,
      "outputs": [
        {
          "output_type": "execute_result",
          "data": {
            "text/plain": [
              "8.335120083536372"
            ]
          },
          "metadata": {
            "tags": []
          },
          "execution_count": 108
        },
        {
          "output_type": "stream",
          "text": [
            "\n",
            "\n"
          ],
          "name": "stdout"
        },
        {
          "output_type": "execute_result",
          "data": {
            "text/plain": [
              "25.380717020536025"
            ]
          },
          "metadata": {
            "tags": []
          },
          "execution_count": 108
        }
      ]
    },
    {
      "cell_type": "code",
      "metadata": {
        "id": "dqIV2OOVAsN4",
        "outputId": "28d839d8-afb8-4141-c786-7aa7f6dd07a7",
        "colab": {
          "base_uri": "https://localhost:8080/",
          "height": 402
        }
      },
      "source": [
        "lines[\"dif\"]=lines['eng_len']/lines['sans_len']\n",
        "lines[\"dif2\"]=lines['sans_len']/lines['eng_len']\n",
        "lines"
      ],
      "execution_count": null,
      "outputs": [
        {
          "output_type": "execute_result",
          "data": {
            "text/html": [
              "<div>\n",
              "<style scoped>\n",
              "    .dataframe tbody tr th:only-of-type {\n",
              "        vertical-align: middle;\n",
              "    }\n",
              "\n",
              "    .dataframe tbody tr th {\n",
              "        vertical-align: top;\n",
              "    }\n",
              "\n",
              "    .dataframe thead th {\n",
              "        text-align: right;\n",
              "    }\n",
              "</style>\n",
              "<table border=\"1\" class=\"dataframe\">\n",
              "  <thead>\n",
              "    <tr style=\"text-align: right;\">\n",
              "      <th></th>\n",
              "      <th>eng</th>\n",
              "      <th>sans</th>\n",
              "      <th>sans_len</th>\n",
              "      <th>eng_len</th>\n",
              "      <th>dif</th>\n",
              "      <th>dif2</th>\n",
              "    </tr>\n",
              "  </thead>\n",
              "  <tbody>\n",
              "    <tr>\n",
              "      <th>0</th>\n",
              "      <td>have seen my pen</td>\n",
              "      <td>भवती मम लेखनीं दृष्टवती वा</td>\n",
              "      <td>5</td>\n",
              "      <td>4</td>\n",
              "      <td>0.800000</td>\n",
              "      <td>1.250000</td>\n",
              "    </tr>\n",
              "    <tr>\n",
              "      <th>1</th>\n",
              "      <td>why havent you seen it</td>\n",
              "      <td>किमर्थं न दृश्यते वा</td>\n",
              "      <td>4</td>\n",
              "      <td>5</td>\n",
              "      <td>1.250000</td>\n",
              "      <td>0.800000</td>\n",
              "    </tr>\n",
              "    <tr>\n",
              "      <th>2</th>\n",
              "      <td>not at all</td>\n",
              "      <td>सत्यं न दृश्यते एव</td>\n",
              "      <td>4</td>\n",
              "      <td>3</td>\n",
              "      <td>0.750000</td>\n",
              "      <td>1.333333</td>\n",
              "    </tr>\n",
              "    <tr>\n",
              "      <th>3</th>\n",
              "      <td>about a five minutes ago i have seen it just here</td>\n",
              "      <td>पञ्चनिमिशात् पूर्वं अहम् अत्रैव दृष्टवती खलु</td>\n",
              "      <td>6</td>\n",
              "      <td>11</td>\n",
              "      <td>1.833333</td>\n",
              "      <td>0.545455</td>\n",
              "    </tr>\n",
              "    <tr>\n",
              "      <th>4</th>\n",
              "      <td>after i had written i had kept it on the top o...</td>\n",
              "      <td>आम् अहं लिखित्वा अत्रैव मम स्यूतस्य उपरि एव स्...</td>\n",
              "      <td>9</td>\n",
              "      <td>13</td>\n",
              "      <td>1.444444</td>\n",
              "      <td>0.692308</td>\n",
              "    </tr>\n",
              "    <tr>\n",
              "      <th>...</th>\n",
              "      <td>...</td>\n",
              "      <td>...</td>\n",
              "      <td>...</td>\n",
              "      <td>...</td>\n",
              "      <td>...</td>\n",
              "      <td>...</td>\n",
              "    </tr>\n",
              "    <tr>\n",
              "      <th>14360</th>\n",
              "      <td>o noble lady the lions among men rama and laks...</td>\n",
              "      <td>मम पृष्ठगतौ तौ च चन्द्रसूर्याविवोदितौत्वत्सकाश...</td>\n",
              "      <td>7</td>\n",
              "      <td>23</td>\n",
              "      <td>3.285714</td>\n",
              "      <td>0.304348</td>\n",
              "    </tr>\n",
              "    <tr>\n",
              "      <th>14361</th>\n",
              "      <td>you will see the lionlike rama a slayer of ene...</td>\n",
              "      <td>अरिघ्नं सिंहसङ्काशं क्षिप्रं द्रक्ष्यसि राघवम्...</td>\n",
              "      <td>8</td>\n",
              "      <td>24</td>\n",
              "      <td>3.000000</td>\n",
              "      <td>0.333333</td>\n",
              "    </tr>\n",
              "    <tr>\n",
              "      <th>14362</th>\n",
              "      <td>you will hear before long the shouts of genera...</td>\n",
              "      <td>नखदंष्ट्रायुधान् वीरान् सिंहशार्दूलविक्रमान्वा...</td>\n",
              "      <td>9</td>\n",
              "      <td>27</td>\n",
              "      <td>3.000000</td>\n",
              "      <td>0.333333</td>\n",
              "    </tr>\n",
              "    <tr>\n",
              "      <th>14363</th>\n",
              "      <td>you will soon see rama the slayer of enemies c...</td>\n",
              "      <td>निवृत्तवनवासं च त्वया सार्धमरिन्दमम्अभिषिक्तमय...</td>\n",
              "      <td>7</td>\n",
              "      <td>26</td>\n",
              "      <td>3.714286</td>\n",
              "      <td>0.269231</td>\n",
              "    </tr>\n",
              "    <tr>\n",
              "      <th>14364</th>\n",
              "      <td>sita though afflicted heard from me that you w...</td>\n",
              "      <td>ततो मया वाग्भिरदीनभाषिणा शिवाभिरिष्टाभिरभिप्रस...</td>\n",
              "      <td>10</td>\n",
              "      <td>54</td>\n",
              "      <td>5.400000</td>\n",
              "      <td>0.185185</td>\n",
              "    </tr>\n",
              "  </tbody>\n",
              "</table>\n",
              "<p>14365 rows × 6 columns</p>\n",
              "</div>"
            ],
            "text/plain": [
              "                                                     eng  ...      dif2\n",
              "0                                       have seen my pen  ...  1.250000\n",
              "1                                 why havent you seen it  ...  0.800000\n",
              "2                                             not at all  ...  1.333333\n",
              "3      about a five minutes ago i have seen it just here  ...  0.545455\n",
              "4      after i had written i had kept it on the top o...  ...  0.692308\n",
              "...                                                  ...  ...       ...\n",
              "14360  o noble lady the lions among men rama and laks...  ...  0.304348\n",
              "14361  you will see the lionlike rama a slayer of ene...  ...  0.333333\n",
              "14362  you will hear before long the shouts of genera...  ...  0.333333\n",
              "14363  you will soon see rama the slayer of enemies c...  ...  0.269231\n",
              "14364  sita though afflicted heard from me that you w...  ...  0.185185\n",
              "\n",
              "[14365 rows x 6 columns]"
            ]
          },
          "metadata": {
            "tags": []
          },
          "execution_count": 109
        }
      ]
    },
    {
      "cell_type": "code",
      "metadata": {
        "id": "0qxo1DLjAsLl",
        "outputId": "20832140-5a66-4f30-fb99-1a81e7294046",
        "colab": {
          "base_uri": "https://localhost:8080/",
          "height": 67
        }
      },
      "source": [
        "lines['dif'].mean()\n",
        "print('\\n')\n",
        "lines['dif2'].mean()"
      ],
      "execution_count": null,
      "outputs": [
        {
          "output_type": "execute_result",
          "data": {
            "text/plain": [
              "3.1856015686850436"
            ]
          },
          "metadata": {
            "tags": []
          },
          "execution_count": 110
        },
        {
          "output_type": "stream",
          "text": [
            "\n",
            "\n"
          ],
          "name": "stdout"
        },
        {
          "output_type": "execute_result",
          "data": {
            "text/plain": [
              "0.3817713043146609"
            ]
          },
          "metadata": {
            "tags": []
          },
          "execution_count": 110
        }
      ]
    },
    {
      "cell_type": "code",
      "metadata": {
        "id": "IeKxsXGSEJjh",
        "outputId": "1a86f586-e448-4bb9-e83f-e4e4de6e3e41",
        "colab": {
          "base_uri": "https://localhost:8080/",
          "height": 279
        }
      },
      "source": [
        "import seaborn as sns\n",
        "ax = sns.boxplot(x=lines[\"dif\"])"
      ],
      "execution_count": null,
      "outputs": [
        {
          "output_type": "display_data",
          "data": {
            "image/png": "[encoded data removed]",
            "text/plain": [
              "<Figure size 432x288 with 1 Axes>"
            ]
          },
          "metadata": {
            "tags": [],
            "needs_background": "light"
          }
        }
      ]
    },
    {
      "cell_type": "code",
      "metadata": {
        "id": "WX6_mA7REJhi",
        "outputId": "3e984dce-c16f-48b3-98d5-23816cd0917e",
        "colab": {
          "base_uri": "https://localhost:8080/",
          "height": 279
        }
      },
      "source": [
        "ax2 = sns.boxplot(x=lines[\"dif2\"])"
      ],
      "execution_count": null,
      "outputs": [
        {
          "output_type": "display_data",
          "data": {
            "image/png": "[encoded data removed]",
            "text/plain": [
              "<Figure size 432x288 with 1 Axes>"
            ]
          },
          "metadata": {
            "tags": [],
            "needs_background": "light"
          }
        }
      ]
    },
    {
      "cell_type": "code",
      "metadata": {
        "id": "H9O8FFeKEJdo",
        "outputId": "e3adc061-95c5-4d82-f0e3-61aeca6303c9",
        "colab": {
          "base_uri": "https://localhost:8080/",
          "height": 280
        }
      },
      "source": [
        "ax2 = sns.boxplot(x=lines[\"sans_len\"])"
      ],
      "execution_count": null,
      "outputs": [
        {
          "output_type": "display_data",
          "data": {
            "image/png": "[encoded data removed]",
            "text/plain": [
              "<Figure size 432x288 with 1 Axes>"
            ]
          },
          "metadata": {
            "tags": [],
            "needs_background": "light"
          }
        }
      ]
    },
    {
      "cell_type": "code",
      "metadata": {
        "id": "FD65_KuGEJbA",
        "outputId": "4ad35cfc-992e-4f29-a800-1db82c562d94",
        "colab": {
          "base_uri": "https://localhost:8080/",
          "height": 280
        }
      },
      "source": [
        "ax2 = sns.boxplot(x=lines[\"eng_len\"])"
      ],
      "execution_count": null,
      "outputs": [
        {
          "output_type": "display_data",
          "data": {
            "image/png": "[encoded data removed]",
            "text/plain": [
              "<Figure size 432x288 with 1 Axes>"
            ]
          },
          "metadata": {
            "tags": [],
            "needs_background": "light"
          }
        }
      ]
    },
    {
      "cell_type": "code",
      "metadata": {
        "id": "e8_mXxCCFX01",
        "outputId": "54324deb-15d1-443c-9b2e-9068e936404d",
        "colab": {
          "base_uri": "https://localhost:8080/",
          "height": 402
        }
      },
      "source": [
        "j=-1\n",
        "for i in lines.dif :\n",
        "  j+=1\n",
        "  if(i>2.8):\n",
        "    lines=lines.drop(j,axis=0)\n",
        "\n",
        "lines=lines.reset_index(drop=True) \n",
        "\n",
        "j=-1\n",
        "for i in lines.dif2 :\n",
        "  j+=1\n",
        "  if(i>0.8):\n",
        "    lines=lines.drop(j,axis=0)\n",
        "\n",
        "lines=lines.reset_index(drop=True) \n",
        "\n",
        "j=-1\n",
        "for i in lines.sans_len :\n",
        "  j+=1\n",
        "  if(i>16):\n",
        "    lines=lines.drop(j,axis=0)\n",
        "  \n",
        "lines=lines.reset_index(drop=True)\n",
        "\n",
        "j=-1\n",
        "for i in lines.eng_len :\n",
        "  j+=1\n",
        "  if(i>27):\n",
        "    lines=lines.drop(j,axis=0)\n",
        "  elif(i<5):\n",
        "    lines=lines.drop(j,axis=0) \n",
        "\n",
        "lines=lines.reset_index(drop=True) \n",
        "lines"
      ],
      "execution_count": null,
      "outputs": [
        {
          "output_type": "execute_result",
          "data": {
            "text/html": [
              "<div>\n",
              "<style scoped>\n",
              "    .dataframe tbody tr th:only-of-type {\n",
              "        vertical-align: middle;\n",
              "    }\n",
              "\n",
              "    .dataframe tbody tr th {\n",
              "        vertical-align: top;\n",
              "    }\n",
              "\n",
              "    .dataframe thead th {\n",
              "        text-align: right;\n",
              "    }\n",
              "</style>\n",
              "<table border=\"1\" class=\"dataframe\">\n",
              "  <thead>\n",
              "    <tr style=\"text-align: right;\">\n",
              "      <th></th>\n",
              "      <th>eng</th>\n",
              "      <th>sans</th>\n",
              "      <th>sans_len</th>\n",
              "      <th>eng_len</th>\n",
              "      <th>dif</th>\n",
              "      <th>dif2</th>\n",
              "    </tr>\n",
              "  </thead>\n",
              "  <tbody>\n",
              "    <tr>\n",
              "      <th>0</th>\n",
              "      <td>why havent you seen it</td>\n",
              "      <td>किमर्थं न दृश्यते वा</td>\n",
              "      <td>4</td>\n",
              "      <td>5</td>\n",
              "      <td>1.250000</td>\n",
              "      <td>0.800000</td>\n",
              "    </tr>\n",
              "    <tr>\n",
              "      <th>1</th>\n",
              "      <td>about a five minutes ago i have seen it just here</td>\n",
              "      <td>पञ्चनिमिशात् पूर्वं अहम् अत्रैव दृष्टवती खलु</td>\n",
              "      <td>6</td>\n",
              "      <td>11</td>\n",
              "      <td>1.833333</td>\n",
              "      <td>0.545455</td>\n",
              "    </tr>\n",
              "    <tr>\n",
              "      <th>2</th>\n",
              "      <td>after i had written i had kept it on the top o...</td>\n",
              "      <td>आम् अहं लिखित्वा अत्रैव मम स्यूतस्य उपरि एव स्...</td>\n",
              "      <td>9</td>\n",
              "      <td>13</td>\n",
              "      <td>1.444444</td>\n",
              "      <td>0.692308</td>\n",
              "    </tr>\n",
              "    <tr>\n",
              "      <th>3</th>\n",
              "      <td>but now that it can not be seen at all</td>\n",
              "      <td>परन्तु इदानीं न दृश्यते एव</td>\n",
              "      <td>5</td>\n",
              "      <td>10</td>\n",
              "      <td>2.000000</td>\n",
              "      <td>0.500000</td>\n",
              "    </tr>\n",
              "    <tr>\n",
              "      <th>4</th>\n",
              "      <td>i have asked my younger brother too</td>\n",
              "      <td>अहं मम अनुजम् अपि पृष्टवती</td>\n",
              "      <td>5</td>\n",
              "      <td>7</td>\n",
              "      <td>1.400000</td>\n",
              "      <td>0.714286</td>\n",
              "    </tr>\n",
              "    <tr>\n",
              "      <th>...</th>\n",
              "      <td>...</td>\n",
              "      <td>...</td>\n",
              "      <td>...</td>\n",
              "      <td>...</td>\n",
              "      <td>...</td>\n",
              "      <td>...</td>\n",
              "    </tr>\n",
              "    <tr>\n",
              "      <th>5425</th>\n",
              "      <td>tell valiant rama not to take me back the way ...</td>\n",
              "      <td>यथाऽहं तस्य वीरस्य वनादुपधिना हृतारक्षसा तद्भय...</td>\n",
              "      <td>9</td>\n",
              "      <td>22</td>\n",
              "      <td>2.444444</td>\n",
              "      <td>0.409091</td>\n",
              "    </tr>\n",
              "    <tr>\n",
              "      <th>5426</th>\n",
              "      <td>hearing the meaningful courteous and reasonabl...</td>\n",
              "      <td>तदर्थोपहितं वाक्यं प्रश्रितं हेतुसंहितम्निशम्य...</td>\n",
              "      <td>7</td>\n",
              "      <td>11</td>\n",
              "      <td>1.571429</td>\n",
              "      <td>0.636364</td>\n",
              "    </tr>\n",
              "    <tr>\n",
              "      <th>5427</th>\n",
              "      <td>mighty powerful and tough monkeys who have the...</td>\n",
              "      <td>तस्य विक्रमसम्पन्नास्सत्त्ववन्तो महाबलाःमन स्स...</td>\n",
              "      <td>7</td>\n",
              "      <td>17</td>\n",
              "      <td>2.428571</td>\n",
              "      <td>0.411765</td>\n",
              "    </tr>\n",
              "    <tr>\n",
              "      <th>5428</th>\n",
              "      <td>there are monkeys who are more powerful than m...</td>\n",
              "      <td>मद्विशिष्टाश्च तुल्याश्च सन्ति तत्र वनौकसःमत्त...</td>\n",
              "      <td>8</td>\n",
              "      <td>21</td>\n",
              "      <td>2.625000</td>\n",
              "      <td>0.380952</td>\n",
              "    </tr>\n",
              "    <tr>\n",
              "      <th>5429</th>\n",
              "      <td>when i could come here what to speak of the mi...</td>\n",
              "      <td>अहं तावदिह प्राप्तः किं पुनस्ते महाबलाःन हि प्...</td>\n",
              "      <td>12</td>\n",
              "      <td>26</td>\n",
              "      <td>2.166667</td>\n",
              "      <td>0.461538</td>\n",
              "    </tr>\n",
              "  </tbody>\n",
              "</table>\n",
              "<p>5430 rows × 6 columns</p>\n",
              "</div>"
            ],
            "text/plain": [
              "                                                    eng  ...      dif2\n",
              "0                                why havent you seen it  ...  0.800000\n",
              "1     about a five minutes ago i have seen it just here  ...  0.545455\n",
              "2     after i had written i had kept it on the top o...  ...  0.692308\n",
              "3                but now that it can not be seen at all  ...  0.500000\n",
              "4                   i have asked my younger brother too  ...  0.714286\n",
              "...                                                 ...  ...       ...\n",
              "5425  tell valiant rama not to take me back the way ...  ...  0.409091\n",
              "5426  hearing the meaningful courteous and reasonabl...  ...  0.636364\n",
              "5427  mighty powerful and tough monkeys who have the...  ...  0.411765\n",
              "5428  there are monkeys who are more powerful than m...  ...  0.380952\n",
              "5429  when i could come here what to speak of the mi...  ...  0.461538\n",
              "\n",
              "[5430 rows x 6 columns]"
            ]
          },
          "metadata": {
            "tags": []
          },
          "execution_count": 115
        }
      ]
    },
    {
      "cell_type": "code",
      "metadata": {
        "id": "seIel4ZmIS5p",
        "outputId": "645529fb-8206-4081-f028-95bf788e7190",
        "colab": {
          "base_uri": "https://localhost:8080/",
          "height": 279
        }
      },
      "source": [
        "ax = sns.boxplot(x=lines[\"dif\"])"
      ],
      "execution_count": null,
      "outputs": [
        {
          "output_type": "display_data",
          "data": {
            "image/png": "[encoded data removed]",
            "text/plain": [
              "<Figure size 432x288 with 1 Axes>"
            ]
          },
          "metadata": {
            "tags": [],
            "needs_background": "light"
          }
        }
      ]
    },
    {
      "cell_type": "code",
      "metadata": {
        "id": "xKNzFwKaIS2Y",
        "outputId": "24cc5cf4-6f25-4447-e4fd-afc0cb6501b1",
        "colab": {
          "base_uri": "https://localhost:8080/",
          "height": 279
        }
      },
      "source": [
        "ax2 = sns.boxplot(x=lines[\"dif2\"])"
      ],
      "execution_count": null,
      "outputs": [
        {
          "output_type": "display_data",
          "data": {
            "image/png": "[encoded data removed]",
            "text/plain": [
              "<Figure size 432x288 with 1 Axes>"
            ]
          },
          "metadata": {
            "tags": [],
            "needs_background": "light"
          }
        }
      ]
    },
    {
      "cell_type": "code",
      "metadata": {
        "id": "6XDmamVlIS0K",
        "outputId": "f8448ca2-a2fd-4395-bece-f2fe179c40ab",
        "colab": {
          "base_uri": "https://localhost:8080/",
          "height": 280
        }
      },
      "source": [
        "ax2 = sns.boxplot(x=lines[\"sans_len\"])"
      ],
      "execution_count": null,
      "outputs": [
        {
          "output_type": "display_data",
          "data": {
            "image/png": "[encoded data removed]",
            "text/plain": [
              "<Figure size 432x288 with 1 Axes>"
            ]
          },
          "metadata": {
            "tags": [],
            "needs_background": "light"
          }
        }
      ]
    },
    {
      "cell_type": "code",
      "metadata": {
        "id": "W7MpfgpQISxl",
        "outputId": "5d70370d-6d8c-4a78-c965-fd865cc68d21",
        "colab": {
          "base_uri": "https://localhost:8080/",
          "height": 280
        }
      },
      "source": [
        "ax2 = sns.boxplot(x=lines[\"eng_len\"])"
      ],
      "execution_count": null,
      "outputs": [
        {
          "output_type": "display_data",
          "data": {
            "image/png": "[encoded data removed]",
            "text/plain": [
              "<Figure size 432x288 with 1 Axes>"
            ]
          },
          "metadata": {
            "tags": [],
            "needs_background": "light"
          }
        }
      ]
    },
    {
      "cell_type": "code",
      "metadata": {
        "id": "I1yI5L7WFXwT",
        "outputId": "429dcccc-1c33-4fb9-9d2f-92bc7ef5e4c0",
        "colab": {
          "base_uri": "https://localhost:8080/",
          "height": 67
        }
      },
      "source": [
        "lines['dif'].mean()\n",
        "print('\\n')\n",
        "lines['dif2'].mean()"
      ],
      "execution_count": null,
      "outputs": [
        {
          "output_type": "execute_result",
          "data": {
            "text/plain": [
              "2.178582688030208"
            ]
          },
          "metadata": {
            "tags": []
          },
          "execution_count": 120
        },
        {
          "output_type": "stream",
          "text": [
            "\n",
            "\n"
          ],
          "name": "stdout"
        },
        {
          "output_type": "execute_result",
          "data": {
            "text/plain": [
              "0.4765025711797855"
            ]
          },
          "metadata": {
            "tags": []
          },
          "execution_count": 120
        }
      ]
    },
    {
      "cell_type": "code",
      "metadata": {
        "id": "odhtV7JPFXsf"
      },
      "source": [
        "lines=lines.drop(['sans_len','eng_len','dif','dif2'],axis=1)"
      ],
      "execution_count": null,
      "outputs": []
    },
    {
      "cell_type": "code",
      "metadata": {
        "id": "NuYCaFDjDPXW"
      },
      "source": [
        "lines.sans = lines.sans.apply(lambda x : 'START_ '+ x + ' _END')"
      ],
      "execution_count": null,
      "outputs": []
    },
    {
      "cell_type": "code",
      "metadata": {
        "id": "Ns1CQe8dDfQ1",
        "outputId": "18ef6e73-e3a9-4e6b-be10-8fc41247fb5a",
        "colab": {
          "base_uri": "https://localhost:8080/",
          "height": 343
        }
      },
      "source": [
        "lines.sample(10)"
      ],
      "execution_count": null,
      "outputs": [
        {
          "output_type": "execute_result",
          "data": {
            "text/html": [
              "<div>\n",
              "<style scoped>\n",
              "    .dataframe tbody tr th:only-of-type {\n",
              "        vertical-align: middle;\n",
              "    }\n",
              "\n",
              "    .dataframe tbody tr th {\n",
              "        vertical-align: top;\n",
              "    }\n",
              "\n",
              "    .dataframe thead th {\n",
              "        text-align: right;\n",
              "    }\n",
              "</style>\n",
              "<table border=\"1\" class=\"dataframe\">\n",
              "  <thead>\n",
              "    <tr style=\"text-align: right;\">\n",
              "      <th></th>\n",
              "      <th>eng</th>\n",
              "      <th>sans</th>\n",
              "    </tr>\n",
              "  </thead>\n",
              "  <tbody>\n",
              "    <tr>\n",
              "      <th>2881</th>\n",
              "      <td>hearing those words an ascetic old in age and ...</td>\n",
              "      <td>START_ अथर्षिर्जरया वृद्धस्तपसा च जरां गतःवेपम...</td>\n",
              "    </tr>\n",
              "    <tr>\n",
              "      <th>944</th>\n",
              "      <td>o lion among kings receive this payasam prepar...</td>\n",
              "      <td>START_ इदं तु नृपशार्दूल पायसं देवनिर्मितम्प्र...</td>\n",
              "    </tr>\n",
              "    <tr>\n",
              "      <th>7</th>\n",
              "      <td>i found my pen my father told that he had take...</td>\n",
              "      <td>START_ मम लेखनी लब्धामम पिता दूरभाषायाः संख्या...</td>\n",
              "    </tr>\n",
              "    <tr>\n",
              "      <th>3188</th>\n",
              "      <td>with lakshmana and sita inside the cave rama h...</td>\n",
              "      <td>START_ तस्मिन्प्रविष्टे तु गुहां लक्ष्मणे सह स...</td>\n",
              "    </tr>\n",
              "    <tr>\n",
              "      <th>5080</th>\n",
              "      <td>o hanuman the great communicate my welfare to ...</td>\n",
              "      <td>START_ कुशलं हनुमन्ब्रूयाः सहितौ रामलक्ष्मणौसु...</td>\n",
              "    </tr>\n",
              "    <tr>\n",
              "      <th>4798</th>\n",
              "      <td>you are a a jewel among women you should not r...</td>\n",
              "      <td>START_ स्त्रीरत्नमसि मैवं भूः कुरु गात्रेषु भू...</td>\n",
              "    </tr>\n",
              "    <tr>\n",
              "      <th>1979</th>\n",
              "      <td>the mightyarmed king lost consciousness for a ...</td>\n",
              "      <td>START_ स मुहूर्तमिवासंज्ञो दुःखितश्च महीपतिःवि...</td>\n",
              "    </tr>\n",
              "    <tr>\n",
              "      <th>2664</th>\n",
              "      <td>all of you carefully watch here do not proceed...</td>\n",
              "      <td>START_ यत्ता भवन्तस्तिष्ठन्तु नेतो गन्तव्यमग्र...</td>\n",
              "    </tr>\n",
              "    <tr>\n",
              "      <th>728</th>\n",
              "      <td>the rudras adityas vasus sadhyas vishvadevas a...</td>\n",
              "      <td>START_ रुद्रादित्या वसवो ये च साध्या विश्वेऽश्...</td>\n",
              "    </tr>\n",
              "    <tr>\n",
              "      <th>4753</th>\n",
              "      <td>this ashoka grove filled with many trees guard...</td>\n",
              "      <td>START_ ध्रुवं तु रक्षोबहुला भविष्यति वनाकुलाअश...</td>\n",
              "    </tr>\n",
              "  </tbody>\n",
              "</table>\n",
              "</div>"
            ],
            "text/plain": [
              "                                                    eng                                               sans\n",
              "2881  hearing those words an ascetic old in age and ...  START_ अथर्षिर्जरया वृद्धस्तपसा च जरां गतःवेपम...\n",
              "944   o lion among kings receive this payasam prepar...  START_ इदं तु नृपशार्दूल पायसं देवनिर्मितम्प्र...\n",
              "7     i found my pen my father told that he had take...  START_ मम लेखनी लब्धामम पिता दूरभाषायाः संख्या...\n",
              "3188  with lakshmana and sita inside the cave rama h...  START_ तस्मिन्प्रविष्टे तु गुहां लक्ष्मणे सह स...\n",
              "5080  o hanuman the great communicate my welfare to ...  START_ कुशलं हनुमन्ब्रूयाः सहितौ रामलक्ष्मणौसु...\n",
              "4798  you are a a jewel among women you should not r...  START_ स्त्रीरत्नमसि मैवं भूः कुरु गात्रेषु भू...\n",
              "1979  the mightyarmed king lost consciousness for a ...  START_ स मुहूर्तमिवासंज्ञो दुःखितश्च महीपतिःवि...\n",
              "2664  all of you carefully watch here do not proceed...  START_ यत्ता भवन्तस्तिष्ठन्तु नेतो गन्तव्यमग्र...\n",
              "728   the rudras adityas vasus sadhyas vishvadevas a...  START_ रुद्रादित्या वसवो ये च साध्या विश्वेऽश्...\n",
              "4753  this ashoka grove filled with many trees guard...  START_ ध्रुवं तु रक्षोबहुला भविष्यति वनाकुलाअश..."
            ]
          },
          "metadata": {
            "tags": []
          },
          "execution_count": 123
        }
      ]
    },
    {
      "cell_type": "code",
      "metadata": {
        "id": "qoly62BnDiFU"
      },
      "source": [
        "#word English\n",
        "all_eng_words=set()\n",
        "for eng in lines.eng:\n",
        "    for word in eng.split():\n",
        "        if word not in all_eng_words:\n",
        "            all_eng_words.add(word)\n",
        "\n",
        "#word hindi \n",
        "all_sans_words=set()\n",
        "for sans in lines.sans:\n",
        "    for word in sans.split():\n",
        "        if word not in all_sans_words:\n",
        "            all_sans_words.add(word)"
      ],
      "execution_count": null,
      "outputs": []
    },
    {
      "cell_type": "code",
      "metadata": {
        "id": "Bno4z67FDnUs",
        "outputId": "1ca8eb2d-dbc2-4207-ebdf-76924639f205",
        "colab": {
          "base_uri": "https://localhost:8080/",
          "height": 34
        }
      },
      "source": [
        "# Max Length\n",
        "lenght_list_eng=[]\n",
        "for l in lines.eng:\n",
        "    lenght_list_eng.append(len(l.split(' ')))\n",
        "max_length_src = np.max(lenght_list_eng)\n",
        "max_length_src"
      ],
      "execution_count": null,
      "outputs": [
        {
          "output_type": "execute_result",
          "data": {
            "text/plain": [
              "27"
            ]
          },
          "metadata": {
            "tags": []
          },
          "execution_count": 125
        }
      ]
    },
    {
      "cell_type": "code",
      "metadata": {
        "id": "6qJn7GKvDtdw",
        "outputId": "1428d5cb-1d9f-4caf-ff26-494cfe69f838",
        "colab": {
          "base_uri": "https://localhost:8080/",
          "height": 34
        }
      },
      "source": [
        "# Max Length\n",
        "lenght_list_sans=[]\n",
        "for l in lines.sans:\n",
        "    lenght_list_sans.append(len(l.split(' ')))\n",
        "max_length_tar = np.max(lenght_list_sans)\n",
        "max_length_tar"
      ],
      "execution_count": null,
      "outputs": [
        {
          "output_type": "execute_result",
          "data": {
            "text/plain": [
              "18"
            ]
          },
          "metadata": {
            "tags": []
          },
          "execution_count": 126
        }
      ]
    },
    {
      "cell_type": "code",
      "metadata": {
        "id": "_Vs0CuUM1m2h",
        "outputId": "79201d52-1008-45bd-8638-8b1d80cd9b90",
        "colab": {
          "base_uri": "https://localhost:8080/",
          "height": 34
        }
      },
      "source": [
        "lines.shape"
      ],
      "execution_count": null,
      "outputs": [
        {
          "output_type": "execute_result",
          "data": {
            "text/plain": [
              "(5430, 2)"
            ]
          },
          "metadata": {
            "tags": []
          },
          "execution_count": 127
        }
      ]
    },
    {
      "cell_type": "code",
      "metadata": {
        "id": "st00rrc1ESxT",
        "outputId": "08615967-8921-4aa9-fbcb-f862254587d9",
        "colab": {
          "base_uri": "https://localhost:8080/",
          "height": 34
        }
      },
      "source": [
        "input_words = sorted(list(all_eng_words))\n",
        "target_words = sorted(list(all_sans_words))\n",
        "num_encoder_tokens = len(all_eng_words)\n",
        "num_decoder_tokens = len(all_sans_words)\n",
        "num_encoder_tokens, num_decoder_tokens"
      ],
      "execution_count": null,
      "outputs": [
        {
          "output_type": "execute_result",
          "data": {
            "text/plain": [
              "(8378, 22873)"
            ]
          },
          "metadata": {
            "tags": []
          },
          "execution_count": 128
        }
      ]
    },
    {
      "cell_type": "code",
      "metadata": {
        "id": "nPxx64fkH6SS"
      },
      "source": [
        "num_decoder_tokens += 1\n",
        "num_encoder_tokens += 1\n",
        "# For zero padding"
      ],
      "execution_count": null,
      "outputs": []
    },
    {
      "cell_type": "code",
      "metadata": {
        "id": "dv_AM21AH-7T"
      },
      "source": [
        "input_token_index = dict([(word, i+1) for i, word in enumerate(input_words)])\n",
        "target_token_index = dict([(word, i+1) for i, word in enumerate(target_words)])"
      ],
      "execution_count": null,
      "outputs": []
    },
    {
      "cell_type": "code",
      "metadata": {
        "id": "0DIYVRPJJs_t"
      },
      "source": [
        "reverse_input_char_index = dict((i, word) for word, i in input_token_index.items())\n",
        "reverse_target_char_index = dict((i, word) for word, i in target_token_index.items())"
      ],
      "execution_count": null,
      "outputs": []
    },
    {
      "cell_type": "code",
      "metadata": {
        "id": "2iIephivJxG3",
        "outputId": "76f72a8b-badf-4fbc-f15f-d82da1af46b9",
        "colab": {
          "base_uri": "https://localhost:8080/",
          "height": 343
        }
      },
      "source": [
        "lines = shuffle(lines)\n",
        "lines.head(10)"
      ],
      "execution_count": null,
      "outputs": [
        {
          "output_type": "execute_result",
          "data": {
            "text/html": [
              "<div>\n",
              "<style scoped>\n",
              "    .dataframe tbody tr th:only-of-type {\n",
              "        vertical-align: middle;\n",
              "    }\n",
              "\n",
              "    .dataframe tbody tr th {\n",
              "        vertical-align: top;\n",
              "    }\n",
              "\n",
              "    .dataframe thead th {\n",
              "        text-align: right;\n",
              "    }\n",
              "</style>\n",
              "<table border=\"1\" class=\"dataframe\">\n",
              "  <thead>\n",
              "    <tr style=\"text-align: right;\">\n",
              "      <th></th>\n",
              "      <th>eng</th>\n",
              "      <th>sans</th>\n",
              "    </tr>\n",
              "  </thead>\n",
              "  <tbody>\n",
              "    <tr>\n",
              "      <th>4253</th>\n",
              "      <td>indeed i have not uttered any harsh word or do...</td>\n",
              "      <td>START_ न मे दुर्व्याहृतं किञ्चिन्नापि मे दुरनु...</td>\n",
              "    </tr>\n",
              "    <tr>\n",
              "      <th>2078</th>\n",
              "      <td>o lakshmana this happens to be the first night...</td>\n",
              "      <td>START_ इयमद्य निशा पूर्वा सौमित्रे प्रहिता वनम...</td>\n",
              "    </tr>\n",
              "    <tr>\n",
              "      <th>4789</th>\n",
              "      <td>ponds covered with a variety of beautiful flow...</td>\n",
              "      <td>START_ वृतां पुष्करिणीभिश्च नानापुष्पोपशोभिताम...</td>\n",
              "    </tr>\n",
              "    <tr>\n",
              "      <th>1771</th>\n",
              "      <td>the duty which you are carrying out with coura...</td>\n",
              "      <td>START_ यं पालयसि धर्मं त्वं धृत्या च नियमेन चस...</td>\n",
              "    </tr>\n",
              "    <tr>\n",
              "      <th>2818</th>\n",
              "      <td>both his wives became pregnant it is said that...</td>\n",
              "      <td>START_ द्वे चास्य भार्ये गर्भिण्यौ बभूवतुरिति ...</td>\n",
              "    </tr>\n",
              "    <tr>\n",
              "      <th>5048</th>\n",
              "      <td>it will be proper if rama comes here kills rav...</td>\n",
              "      <td>START_ यदि रामो दशग्रीवमिह हत्त्वा सबान्धवम्मा...</td>\n",
              "    </tr>\n",
              "    <tr>\n",
              "      <th>2192</th>\n",
              "      <td>after the arrival of bharata i hope queen kaik...</td>\n",
              "      <td>START_ सा हि देवी महाराजं कैकेयी राज्यकारणात्अ...</td>\n",
              "    </tr>\n",
              "    <tr>\n",
              "      <th>3179</th>\n",
              "      <td>similarly dusana proceeded with four mahakapal...</td>\n",
              "      <td>START_ महाकपालिस्स्थूलाक्षः प्रमाथी त्रिशिरास्...</td>\n",
              "    </tr>\n",
              "    <tr>\n",
              "      <th>3146</th>\n",
              "      <td>how can you face us alone we outnumber you lea...</td>\n",
              "      <td>START_ का हि ते शक्तिरेकस्य बहूनां रणमूर्धनीअस...</td>\n",
              "    </tr>\n",
              "    <tr>\n",
              "      <th>3478</th>\n",
              "      <td>the lady you want to abduct from here is the f...</td>\n",
              "      <td>START_ तस्यैषा लोकनाथस्य धर्मपत्नी यशस्विनीसीत...</td>\n",
              "    </tr>\n",
              "  </tbody>\n",
              "</table>\n",
              "</div>"
            ],
            "text/plain": [
              "                                                    eng                                               sans\n",
              "4253  indeed i have not uttered any harsh word or do...  START_ न मे दुर्व्याहृतं किञ्चिन्नापि मे दुरनु...\n",
              "2078  o lakshmana this happens to be the first night...  START_ इयमद्य निशा पूर्वा सौमित्रे प्रहिता वनम...\n",
              "4789  ponds covered with a variety of beautiful flow...  START_ वृतां पुष्करिणीभिश्च नानापुष्पोपशोभिताम...\n",
              "1771  the duty which you are carrying out with coura...  START_ यं पालयसि धर्मं त्वं धृत्या च नियमेन चस...\n",
              "2818  both his wives became pregnant it is said that...  START_ द्वे चास्य भार्ये गर्भिण्यौ बभूवतुरिति ...\n",
              "5048  it will be proper if rama comes here kills rav...  START_ यदि रामो दशग्रीवमिह हत्त्वा सबान्धवम्मा...\n",
              "2192  after the arrival of bharata i hope queen kaik...  START_ सा हि देवी महाराजं कैकेयी राज्यकारणात्अ...\n",
              "3179  similarly dusana proceeded with four mahakapal...  START_ महाकपालिस्स्थूलाक्षः प्रमाथी त्रिशिरास्...\n",
              "3146  how can you face us alone we outnumber you lea...  START_ का हि ते शक्तिरेकस्य बहूनां रणमूर्धनीअस...\n",
              "3478  the lady you want to abduct from here is the f...  START_ तस्यैषा लोकनाथस्य धर्मपत्नी यशस्विनीसीत..."
            ]
          },
          "metadata": {
            "tags": []
          },
          "execution_count": 132
        }
      ]
    },
    {
      "cell_type": "code",
      "metadata": {
        "id": "QFPnUVnJKR0k",
        "outputId": "5e7421c0-ea56-48b0-e83f-6b3878c35bbc",
        "colab": {
          "base_uri": "https://localhost:8080/",
          "height": 34
        }
      },
      "source": [
        "# Train - Test Split\n",
        "X, y = lines.eng, lines.sans\n",
        "X_train, X_test, y_train, y_test = train_test_split(X, y, test_size = 0.1)\n",
        "X_train.shape, X_test.shape"
      ],
      "execution_count": null,
      "outputs": [
        {
          "output_type": "execute_result",
          "data": {
            "text/plain": [
              "((4887,), (543,))"
            ]
          },
          "metadata": {
            "tags": []
          },
          "execution_count": 133
        }
      ]
    },
    {
      "cell_type": "code",
      "metadata": {
        "id": "6YGe8h5QKp_3"
      },
      "source": [
        "def generate_batch(X = X_train, y = y_train, batch_size = 128):\n",
        "    ''' Generate a batch of data '''\n",
        "    while True:\n",
        "        for j in range(0, len(X), batch_size):\n",
        "            encoder_input_data = np.zeros((batch_size, max_length_src),dtype='float32')\n",
        "            decoder_input_data = np.zeros((batch_size, max_length_tar),dtype='float32')\n",
        "            decoder_target_data = np.zeros((batch_size, max_length_tar, num_decoder_tokens),dtype='float32')\n",
        "            for i, (input_text, target_text) in enumerate(zip(X[j:j+batch_size], y[j:j+batch_size])):\n",
        "                for t, word in enumerate(input_text.split()):\n",
        "                    encoder_input_data[i, t] = input_token_index[word] # encoder input seq\n",
        "                for t, word in enumerate(target_text.split()):\n",
        "                    if t<len(target_text.split())-1:\n",
        "                        decoder_input_data[i, t] = target_token_index[word] # decoder input seq\n",
        "                    if t>0:\n",
        "                        # decoder target sequence (one hot encoded)\n",
        "                        # does not include the START_ token\n",
        "                        # Offset by one timestep\n",
        "                        decoder_target_data[i, t - 1, target_token_index[word]] = 1.\n",
        "            yield([encoder_input_data, decoder_input_data], decoder_target_data)"
      ],
      "execution_count": null,
      "outputs": []
    },
    {
      "cell_type": "code",
      "metadata": {
        "id": "HKTRuh2lK1qX"
      },
      "source": [
        "latent_dim = 50"
      ],
      "execution_count": null,
      "outputs": []
    },
    {
      "cell_type": "code",
      "metadata": {
        "id": "uDMoP3PyLc2-"
      },
      "source": [
        "# Encoder\n",
        "encoder_inputs = Input(shape=(None,))\n",
        "enc_emb =  Embedding(num_encoder_tokens, latent_dim, mask_zero = True)(encoder_inputs)\n",
        "encoder_lstm = LSTM(latent_dim,dropout=0.2, return_state=True)\n",
        "encoder_outputs, state_h, state_c = encoder_lstm(enc_emb)\n",
        "\n",
        "# We discard `encoder_outputs` and only keep the states.\n",
        "encoder_states = [state_h, state_c]"
      ],
      "execution_count": null,
      "outputs": []
    },
    {
      "cell_type": "code",
      "metadata": {
        "id": "EXwCkHujLf9S"
      },
      "source": [
        "# Set up the decoder, using `encoder_states` as initial state.\n",
        "decoder_inputs = Input(shape=(None,))\n",
        "dec_emb_layer = Embedding(num_decoder_tokens,latent_dim, mask_zero = True)\n",
        "dec_emb = dec_emb_layer(decoder_inputs)\n",
        "\n",
        "# We set up our decoder to return full output sequences,\n",
        "# and to return internal states as well. We don't use the\n",
        "# return states in the training model, but we will use them in inference.\n",
        "decoder_lstm = LSTM(latent_dim, return_sequences=True,dropout=0.2, return_state=True)\n",
        "decoder_outputs, _, _ = decoder_lstm(dec_emb, initial_state=encoder_states)\n",
        "\n",
        "# Use a softmax to generate a probability distribution over the target vocabulary for each time step\n",
        "decoder_dense = Dense(num_decoder_tokens, activation='softmax')\n",
        "decoder_outputs = decoder_dense(decoder_outputs)\n",
        "\n",
        "# Define the model that will turn\n",
        "# `encoder_input_data` & `decoder_input_data` into `decoder_target_data`\n",
        "model = Model([encoder_inputs, decoder_inputs], decoder_outputs)"
      ],
      "execution_count": null,
      "outputs": []
    },
    {
      "cell_type": "code",
      "metadata": {
        "id": "Uw_TLaUeLoHN",
        "outputId": "07a1ce6a-6aa6-4261-93d9-0937e01b8221",
        "colab": {
          "base_uri": "https://localhost:8080/",
          "height": 437
        }
      },
      "source": [
        "model.compile(optimizer='rmsprop', loss='categorical_crossentropy', metrics=['acc'])\n",
        "print(model.summary())"
      ],
      "execution_count": null,
      "outputs": [
        {
          "output_type": "stream",
          "text": [
            "Model: \"model_4\"\n",
            "__________________________________________________________________________________________________\n",
            "Layer (type)                    Output Shape         Param #     Connected to                     \n",
            "==================================================================================================\n",
            "input_5 (InputLayer)            (None, None)         0                                            \n",
            "__________________________________________________________________________________________________\n",
            "input_6 (InputLayer)            (None, None)         0                                            \n",
            "__________________________________________________________________________________________________\n",
            "embedding_3 (Embedding)         (None, None, 50)     418950      input_5[0][0]                    \n",
            "__________________________________________________________________________________________________\n",
            "embedding_4 (Embedding)         (None, None, 50)     1143700     input_6[0][0]                    \n",
            "__________________________________________________________________________________________________\n",
            "lstm_3 (LSTM)                   [(None, 50), (None,  20200       embedding_3[0][0]                \n",
            "__________________________________________________________________________________________________\n",
            "lstm_4 (LSTM)                   [(None, None, 50), ( 20200       embedding_4[0][0]                \n",
            "                                                                 lstm_3[0][1]                     \n",
            "                                                                 lstm_3[0][2]                     \n",
            "__________________________________________________________________________________________________\n",
            "dense_2 (Dense)                 (None, None, 22874)  1166574     lstm_4[0][0]                     \n",
            "==================================================================================================\n",
            "Total params: 2,769,624\n",
            "Trainable params: 2,769,624\n",
            "Non-trainable params: 0\n",
            "__________________________________________________________________________________________________\n",
            "None\n"
          ],
          "name": "stdout"
        }
      ]
    },
    {
      "cell_type": "code",
      "metadata": {
        "id": "ZOD_erkBLrg1"
      },
      "source": [
        "train_samples = len(X_train)\n",
        "val_samples = len(X_test)\n",
        "batch_size = 128\n",
        "epochs = 20"
      ],
      "execution_count": null,
      "outputs": []
    },
    {
      "cell_type": "code",
      "metadata": {
        "id": "BnIPvRRYLvRi",
        "outputId": "2fa9ce8f-0498-49f3-eece-7797f363dad4",
        "colab": {
          "base_uri": "https://localhost:8080/",
          "height": 689
        }
      },
      "source": [
        "history=model.fit_generator(generator = generate_batch(X_train, y_train, batch_size = batch_size),\n",
        "                    steps_per_epoch = train_samples//batch_size,\n",
        "                    epochs=epochs,\n",
        "                    validation_data = generate_batch(X_test, y_test, batch_size = batch_size),\n",
        "                    validation_steps = val_samples//batch_size)"
      ],
      "execution_count": null,
      "outputs": [
        {
          "output_type": "stream",
          "text": [
            "Epoch 1/20\n",
            "38/38 [==============================] - 10s 270ms/step - loss: 1.5062 - acc: 0.5880 - val_loss: 2.0918 - val_acc: 0.4105\n",
            "Epoch 2/20\n",
            "38/38 [==============================] - 10s 258ms/step - loss: 1.4600 - acc: 0.5931 - val_loss: 2.0715 - val_acc: 0.3936\n",
            "Epoch 3/20\n",
            "38/38 [==============================] - 10s 256ms/step - loss: 1.4425 - acc: 0.5967 - val_loss: 2.2509 - val_acc: 0.3670\n",
            "Epoch 4/20\n",
            "38/38 [==============================] - 10s 261ms/step - loss: 1.4323 - acc: 0.5999 - val_loss: 2.1909 - val_acc: 0.3573\n",
            "Epoch 5/20\n",
            "38/38 [==============================] - 10s 259ms/step - loss: 1.4210 - acc: 0.6015 - val_loss: 0.5330 - val_acc: 0.3456\n",
            "Epoch 6/20\n",
            "38/38 [==============================] - 10s 258ms/step - loss: 1.4057 - acc: 0.6072 - val_loss: 2.4677 - val_acc: 0.3432\n",
            "Epoch 7/20\n",
            "38/38 [==============================] - 10s 256ms/step - loss: 1.3873 - acc: 0.6106 - val_loss: 2.4043 - val_acc: 0.3435\n",
            "Epoch 8/20\n",
            "38/38 [==============================] - 10s 258ms/step - loss: 1.3769 - acc: 0.6152 - val_loss: 2.5965 - val_acc: 0.3305\n",
            "Epoch 9/20\n",
            "38/38 [==============================] - 10s 255ms/step - loss: 1.3612 - acc: 0.6158 - val_loss: 2.5013 - val_acc: 0.3332\n",
            "Epoch 10/20\n",
            "38/38 [==============================] - 10s 257ms/step - loss: 1.3557 - acc: 0.6190 - val_loss: 0.6083 - val_acc: 0.3263\n",
            "Epoch 11/20\n",
            "38/38 [==============================] - 10s 258ms/step - loss: 1.3422 - acc: 0.6213 - val_loss: 2.7165 - val_acc: 0.3245\n",
            "Epoch 12/20\n",
            "38/38 [==============================] - 10s 257ms/step - loss: 1.3252 - acc: 0.6260 - val_loss: 2.6169 - val_acc: 0.3237\n",
            "Epoch 13/20\n",
            "38/38 [==============================] - 10s 257ms/step - loss: 1.3128 - acc: 0.6285 - val_loss: 2.8292 - val_acc: 0.3136\n",
            "Epoch 14/20\n",
            "38/38 [==============================] - 10s 260ms/step - loss: 1.2990 - acc: 0.6321 - val_loss: 2.7043 - val_acc: 0.3192\n",
            "Epoch 15/20\n",
            "38/38 [==============================] - 10s 256ms/step - loss: 1.2869 - acc: 0.6354 - val_loss: 0.6585 - val_acc: 0.3141\n",
            "Epoch 16/20\n",
            "38/38 [==============================] - 10s 255ms/step - loss: 1.2799 - acc: 0.6371 - val_loss: 2.8750 - val_acc: 0.3118\n",
            "Epoch 17/20\n",
            "38/38 [==============================] - 10s 255ms/step - loss: 1.2690 - acc: 0.6387 - val_loss: 2.7623 - val_acc: 0.3128\n",
            "Epoch 18/20\n",
            "38/38 [==============================] - 10s 256ms/step - loss: 1.2564 - acc: 0.6440 - val_loss: 2.9562 - val_acc: 0.3023\n",
            "Epoch 19/20\n",
            "38/38 [==============================] - 10s 257ms/step - loss: 1.2460 - acc: 0.6436 - val_loss: 2.8412 - val_acc: 0.3096\n",
            "Epoch 20/20\n",
            "38/38 [==============================] - 10s 257ms/step - loss: 1.2334 - acc: 0.6471 - val_loss: 0.6914 - val_acc: 0.3028\n"
          ],
          "name": "stdout"
        }
      ]
    },
    {
      "cell_type": "code",
      "metadata": {
        "id": "ArJWmKa4g79E",
        "outputId": "42a6282f-4c9c-4458-8ef4-979d0e1ef404",
        "colab": {
          "base_uri": "https://localhost:8080/",
          "height": 34
        }
      },
      "source": [
        "print(history.history.keys())"
      ],
      "execution_count": null,
      "outputs": [
        {
          "output_type": "stream",
          "text": [
            "dict_keys(['val_loss', 'val_acc', 'loss', 'acc'])\n"
          ],
          "name": "stdout"
        }
      ]
    },
    {
      "cell_type": "code",
      "metadata": {
        "id": "j7e-p_i4b7vK",
        "outputId": "2fe71140-3251-4996-e6f7-7f62b3b150b4",
        "colab": {
          "base_uri": "https://localhost:8080/",
          "height": 640
        }
      },
      "source": [
        "\n",
        "# summarize history for accuracy\n",
        "plt.plot(history.history['acc'])\n",
        "plt.plot(history.history['val_acc'])\n",
        "plt.title('model accuracy')\n",
        "plt.ylabel('accuracy')\n",
        "plt.xlabel('epoch')\n",
        "plt.legend(['train', 'test'], loc='upper left')\n",
        "plt.show()\n",
        "# summarize history for loss\n",
        "plt.plot(history.history['loss'])\n",
        "plt.plot(history.history['val_loss'])\n",
        "plt.title('model loss')\n",
        "plt.ylabel('loss')\n",
        "plt.xlabel('epoch')\n",
        "plt.legend(['train', 'test'], loc='upper left')\n",
        "plt.show()"
      ],
      "execution_count": null,
      "outputs": [
        {
          "output_type": "execute_result",
          "data": {
            "text/plain": [
              "[<matplotlib.lines.Line2D at 0x7f0cb8f96400>]"
            ]
          },
          "metadata": {
            "tags": []
          },
          "execution_count": 59
        },
        {
          "output_type": "execute_result",
          "data": {
            "text/plain": [
              "[<matplotlib.lines.Line2D at 0x7f0cb80e1ba8>]"
            ]
          },
          "metadata": {
            "tags": []
          },
          "execution_count": 59
        },
        {
          "output_type": "execute_result",
          "data": {
            "text/plain": [
              "Text(0.5, 1.0, 'model accuracy')"
            ]
          },
          "metadata": {
            "tags": []
          },
          "execution_count": 59
        },
        {
          "output_type": "execute_result",
          "data": {
            "text/plain": [
              "Text(0, 0.5, 'accuracy')"
            ]
          },
          "metadata": {
            "tags": []
          },
          "execution_count": 59
        },
        {
          "output_type": "execute_result",
          "data": {
            "text/plain": [
              "Text(0.5, 0, 'epoch')"
            ]
          },
          "metadata": {
            "tags": []
          },
          "execution_count": 59
        },
        {
          "output_type": "execute_result",
          "data": {
            "text/plain": [
              "<matplotlib.legend.Legend at 0x7f0cb8f968d0>"
            ]
          },
          "metadata": {
            "tags": []
          },
          "execution_count": 59
        },
        {
          "output_type": "display_data",
          "data": {
            "image/png": "[encoded data removed]",
            "text/plain": [
              "<Figure size 432x288 with 1 Axes>"
            ]
          },
          "metadata": {
            "tags": [],
            "needs_background": "light"
          }
        },
        {
          "output_type": "execute_result",
          "data": {
            "text/plain": [
              "[<matplotlib.lines.Line2D at 0x7f0cb8f07e10>]"
            ]
          },
          "metadata": {
            "tags": []
          },
          "execution_count": 59
        },
        {
          "output_type": "execute_result",
          "data": {
            "text/plain": [
              "[<matplotlib.lines.Line2D at 0x7f0cb8f617f0>]"
            ]
          },
          "metadata": {
            "tags": []
          },
          "execution_count": 59
        },
        {
          "output_type": "execute_result",
          "data": {
            "text/plain": [
              "Text(0.5, 1.0, 'model loss')"
            ]
          },
          "metadata": {
            "tags": []
          },
          "execution_count": 59
        },
        {
          "output_type": "execute_result",
          "data": {
            "text/plain": [
              "Text(0, 0.5, 'loss')"
            ]
          },
          "metadata": {
            "tags": []
          },
          "execution_count": 59
        },
        {
          "output_type": "execute_result",
          "data": {
            "text/plain": [
              "Text(0.5, 0, 'epoch')"
            ]
          },
          "metadata": {
            "tags": []
          },
          "execution_count": 59
        },
        {
          "output_type": "execute_result",
          "data": {
            "text/plain": [
              "<matplotlib.legend.Legend at 0x7f0cb8f78668>"
            ]
          },
          "metadata": {
            "tags": []
          },
          "execution_count": 59
        },
        {
          "output_type": "display_data",
          "data": {
            "image/png": "[encoded data removed]",
            "text/plain": [
              "<Figure size 432x288 with 1 Axes>"
            ]
          },
          "metadata": {
            "tags": [],
            "needs_background": "light"
          }
        }
      ]
    },
    {
      "cell_type": "code",
      "metadata": {
        "id": "3FatRLUSO5kj"
      },
      "source": [
        "model.save_weights('sans_weights.h5')"
      ],
      "execution_count": null,
      "outputs": []
    },
    {
      "cell_type": "code",
      "metadata": {
        "id": "C_X_5CIvOmeX"
      },
      "source": [
        "model.load_weights('sans_weights.h5')"
      ],
      "execution_count": null,
      "outputs": []
    },
    {
      "cell_type": "code",
      "metadata": {
        "id": "D0Z7gP-sL6NC"
      },
      "source": [
        "# Encode the input sequence to get the \"thought vectors\"\n",
        "encoder_model = Model(encoder_inputs, encoder_states)\n",
        "\n",
        "# Decoder setup\n",
        "# Below tensors will hold the states of the previous time step\n",
        "decoder_state_input_h = Input(shape=(latent_dim,))\n",
        "decoder_state_input_c = Input(shape=(latent_dim,))\n",
        "decoder_states_inputs = [decoder_state_input_h, decoder_state_input_c]\n",
        "\n",
        "dec_emb2= dec_emb_layer(decoder_inputs) # Get the embeddings of the decoder sequence\n",
        "\n",
        "# To predict the next word in the sequence, set the initial states to the states from the previous time step\n",
        "decoder_outputs2, state_h2, state_c2 = decoder_lstm(dec_emb2, initial_state=decoder_states_inputs)\n",
        "decoder_states2 = [state_h2, state_c2]\n",
        "decoder_outputs2 = decoder_dense(decoder_outputs2) # A dense softmax layer to generate prob dist. over the target vocabulary\n",
        "\n",
        "# Final decoder model\n",
        "decoder_model = Model(\n",
        "    [decoder_inputs] + decoder_states_inputs,\n",
        "    [decoder_outputs2] + decoder_states2)"
      ],
      "execution_count": null,
      "outputs": []
    },
    {
      "cell_type": "code",
      "metadata": {
        "id": "mJQFatcpOYYm"
      },
      "source": [
        "def decode_sequence(input_seq):\n",
        "    # Encode the input as state vectors.\n",
        "    states_value = encoder_model.predict(input_seq)\n",
        "    \n",
        "    # Generate empty target sequence of length 1.\n",
        "    target_seq = np.zeros((1,1))\n",
        "    # Populate the first character of target sequence with the start character.\n",
        "    target_seq[0, 0] = target_token_index['START_']\n",
        "\n",
        "    # Sampling loop for a batch of sequences\n",
        "    # (to simplify, here we assume a batch of size 1).\n",
        "    stop_condition = False\n",
        "    decoded_sentence = ''\n",
        "    while not stop_condition:\n",
        "        output_tokens, h, c = decoder_model.predict([target_seq] + states_value)\n",
        "\n",
        "        # Sample a token\n",
        "        sampled_token_index = np.argmax(output_tokens[0, -1, :])\n",
        "        sampled_char = reverse_target_char_index[sampled_token_index]\n",
        "        decoded_sentence += ' '+sampled_char\n",
        "\n",
        "        # Exit condition: either hit max length\n",
        "        # or find stop character.\n",
        "        if (sampled_char == '_END' or\n",
        "           len(decoded_sentence) > 50):\n",
        "            stop_condition = True\n",
        "\n",
        "        # Update the target sequence (of length 1).\n",
        "        target_seq = np.zeros((1,1))\n",
        "        target_seq[0, 0] = sampled_token_index\n",
        "\n",
        "        # Update states\n",
        "        states_value = [h, c]\n",
        "\n",
        "    return decoded_sentence"
      ],
      "execution_count": null,
      "outputs": []
    },
    {
      "cell_type": "code",
      "metadata": {
        "id": "HxOF6gRI3OJF"
      },
      "source": [
        "from math import log"
      ],
      "execution_count": null,
      "outputs": []
    },
    {
      "cell_type": "code",
      "metadata": {
        "id": "kWWt58L2t6ba"
      },
      "source": [
        "def decode_beem_sequence(input_seq,k):\n",
        "  # Encode the input as state vectors.\n",
        "  states_value = encoder_model.predict(input_seq)\n",
        "\n",
        "  # Generate empty target sequence of length 1.\n",
        "  target_seq = np.zeros((1,1))\n",
        "  # Populate the first character of target sequence with the start character.\n",
        "  target_seq[0, 0] = target_token_index['START_']\n",
        "\n",
        "  # Sampling loop for a batch of sequences\n",
        "  # (to simplify, here we assume a batch of size 1).\n",
        "\n",
        "  sequences = [[0,0,0,str(0),str()]]\n",
        "  \n",
        "  sequences[0][1]=states_value\n",
        "  sequences[0][2]=target_seq\n",
        "  \n",
        "  seq_len=1\n",
        "\n",
        "  stop_condition = False\n",
        "\n",
        "  while not stop_condition:\n",
        "\n",
        "    check=0\n",
        "\n",
        "    for j in range(seq_len):\n",
        "\n",
        "      if( sequences[j][3]!='_END' ):\n",
        "\n",
        "        temp=sequences[j].copy()\n",
        "        output_tokens, h, c = decoder_model.predict([temp[2]] + temp[1])\n",
        "        # Update states\n",
        "        states_value = [h, c]\n",
        "        temp[1]=states_value\n",
        "\n",
        "        output_tokens_temp=output_tokens\n",
        "\n",
        "        for i in range(k):\n",
        "\n",
        "          temp1=temp.copy()\n",
        "          # Sample a token\n",
        "          sampled_token_index = np.argmax(output_tokens_temp[0, -1, :])\n",
        "          # Probablity of token\n",
        "          temp1[0] += -log(output_tokens_temp[0, -1,sampled_token_index ])\n",
        "          # char value of token\n",
        "          temp1[2]= np.array([[sampled_token_index]])\n",
        "          sampled_char = reverse_target_char_index[sampled_token_index]\n",
        "          # word\n",
        "          temp1[3]= sampled_char\n",
        "          # sentence\n",
        "          if(temp1[4]==0):\n",
        "            temp1[4]=sampled_char\n",
        "          else:\n",
        "            temp1[4] += ' '+temp1[3]\n",
        "\n",
        "          output_tokens_temp[0, -1,sampled_token_index ]=0\n",
        "\n",
        "          if(i==0):\n",
        "            sequences[j]=temp1\n",
        "          else:   \n",
        "            sequences.append(temp1)\n",
        "\n",
        "      else:\n",
        "        check+=1\n",
        "        if(check==k):\n",
        "          stop_condition = True \n",
        "              \n",
        "    ordered = sorted(sequences, key=lambda x:x[0])\n",
        "    sequences=ordered[:k]\n",
        "    seq_len=k\n",
        "\n",
        "  ordered = sequences\n",
        "\n",
        "  for i in range(k):\n",
        "    ordered[i][0]=ordered[i][0]/len(ordered[i][4])\n",
        "\n",
        "  sequences = sorted(ordered, key=lambda x:x[0])  \n",
        "\n",
        "  return sequences\n"
      ],
      "execution_count": null,
      "outputs": []
    },
    {
      "cell_type": "code",
      "metadata": {
        "id": "qQBnKN8HOdYa"
      },
      "source": [
        "#train_gen = generate_batch(X_test, y_test, batch_size = 1)\n",
        "train_gen = generate_batch(X_test, y_test, batch_size = 1)\n",
        "k=-1"
      ],
      "execution_count": null,
      "outputs": []
    },
    {
      "cell_type": "code",
      "metadata": {
        "id": "YkLsRYBXIFgW",
        "outputId": "f7e00a9a-fb11-4d32-e023-ee85cb612980",
        "colab": {
          "base_uri": "https://localhost:8080/",
          "height": 84
        }
      },
      "source": [
        "k+=1\n",
        "(input_seq, actual_output), _ = next(train_gen)\n",
        "decoded_sentence = decode_sequence(input_seq)\n",
        "decoded_sentence_1 = decode_beem_sequence(input_seq,20)\n",
        "print('Input English sentence:', X_test[k:k+1].values[0])\n",
        "print('Actual hindi Translation        :', y_test[k:k+1].values[0][6:-4])\n",
        "print('Predicted hindi      Translation:', decoded_sentence[:-4])\n",
        "print('Predicted beam hindi Translation:', decoded_sentence_1[0][4][:-4])"
      ],
      "execution_count": null,
      "outputs": [
        {
          "output_type": "stream",
          "text": [
            "Input English sentence: o monkeys the one you said to have been killed by mighty ravana in a combat was my younger brother jatayu\n",
            "Actual hindi Translation        :  यवीयान्मम भ्राता जटायुर्नाम वानराःयमाख्यात हतं युद्धे रावणेन बलीयसा \n",
            "Predicted hindi      Translation:  अहं हि वरारोहा वर्षाणि पञ्च लोकानां नृशंसस्य ख्य\n",
            "Predicted beam hindi Translation:  अहं हि सलक्ष्मणाय देव्यै च धर्मनित्यानां कृतशोभि च राघव राघव \n"
          ],
          "name": "stdout"
        }
      ]
    },
    {
      "cell_type": "code",
      "metadata": {
        "id": "AflkcdqZL8LP",
        "outputId": "26231ef7-d5cb-42cc-b928-34f100921a3f",
        "colab": {
          "base_uri": "https://localhost:8080/",
          "height": 118
        }
      },
      "source": [
        "print(decoded_sentence_1[0][4])\n",
        "print(decoded_sentence_1[0][0])\n",
        "print(decoded_sentence_1[1][4])\n",
        "print(decoded_sentence_1[1][0])\n",
        "print(decoded_sentence_1[2][4])\n",
        "print(decoded_sentence_1[2][0])\n"
      ],
      "execution_count": null,
      "outputs": [
        {
          "output_type": "stream",
          "text": [
            " अहं हि सलक्ष्मणाय देव्यै च धर्मनित्यानां कृतशोभि च राघव राघव _END\n",
            "0.3147080253558494\n",
            " अहं हि सलक्ष्मणाय देव्यै च धर्मनित्यानां कृतशोभि च राघव _END\n",
            "0.3147800986876512\n",
            " अहं हि सलक्ष्मणाय देव्यै च धर्मनित्यानां कृतशोभि च पुनः राघव _END\n",
            "0.31867245928671095\n"
          ],
          "name": "stdout"
        }
      ]
    },
    {
      "cell_type": "code",
      "metadata": {
        "id": "BE-DH5N_OhSi",
        "outputId": "30a7517b-00e1-4b21-9af1-44e8de25f57a",
        "colab": {
          "base_uri": "https://localhost:8080/",
          "height": 67
        }
      },
      "source": [
        "k+=1\n",
        "(input_seq, actual_output), _ = next(train_gen)\n",
        "decoded_sentence = decode_sequence(input_seq)\n",
        "print('Input English sentence:', X_test[k:k+1].values[0])\n",
        "print('Actual hindi Translation:', y_test[k:k+1].values[0][6:-4])\n",
        "print('Predicted hindi Translation:', decoded_sentence[:-4])"
      ],
      "execution_count": null,
      "outputs": [
        {
          "output_type": "stream",
          "text": [
            "Input English sentence: tell me freely and cheerfully before i string the bow your enemy will be destroyed as soon as i release my arrow\n",
            "Actual hindi Translation:  हृष्टः कथय विस्रब्धो यावदारोप्यते धनुःसृष्टश्च हि मया बाणो निरस्तश्च रिपुस्तव \n",
            "Predicted hindi Translation:  इयं भद्रं ते सुखा शय्या त्यक्त्वा शस्रेण भारत तपश्चा\n"
          ],
          "name": "stdout"
        }
      ]
    },
    {
      "cell_type": "code",
      "metadata": {
        "id": "TTw9tHo75K1L",
        "outputId": "42a9cfe7-5201-4986-97ba-0e7615223ca6",
        "colab": {
          "base_uri": "https://localhost:8080/",
          "height": 67
        }
      },
      "source": [
        "k+=1\n",
        "(input_seq, actual_output), _ = next(train_gen)\n",
        "decoded_sentence = decode_sequence(input_seq)\n",
        "print('Input English sentence:', X_test[k:k+1].values[0])\n",
        "print('Actual hindi Translation:', y_test[k:k+1].values[0][6:-4])\n",
        "print('Predicted hindi Translation:', decoded_sentence[:-4])"
      ],
      "execution_count": null,
      "outputs": [
        {
          "output_type": "stream",
          "text": [
            "Input English sentence: we usually have breakfast at\n",
            "Actual hindi Translation:  हम आमतौर पर साढ़े सात बजे नाश्ता खाते हैं \n",
            "Predicted hindi Translation:  हम आमतौर पर साढ़े सात बजे नाश्ता खाते हैं \n"
          ],
          "name": "stdout"
        }
      ]
    },
    {
      "cell_type": "code",
      "metadata": {
        "id": "Vr8CdXYuSli9",
        "outputId": "a9652dae-696f-4abb-d3b1-b637e8df4ed0",
        "colab": {
          "base_uri": "https://localhost:8080/",
          "height": 67
        }
      },
      "source": [
        "k+=1\n",
        "(input_seq, actual_output), _ = next(train_gen)\n",
        "decoded_sentence = decode_sequence(input_seq)\n",
        "print('Input English sentence:', X_test[k:k+1].values[0])\n",
        "print('Actual hindi Translation:', y_test[k:k+1].values[0][6:-4])\n",
        "print('Predicted hindi Translation:', decoded_sentence[:-4])"
      ],
      "execution_count": null,
      "outputs": [
        {
          "output_type": "stream",
          "text": [
            "Input English sentence: please leave\n",
            "Actual hindi Translation:  कृपया जाईये \n",
            "Predicted hindi Translation:  कृपया जाईये \n"
          ],
          "name": "stdout"
        }
      ]
    },
    {
      "cell_type": "code",
      "metadata": {
        "id": "T6iuGb3NSnsX",
        "outputId": "80d36440-5373-4ba5-e7fc-b942ab46ab6b",
        "colab": {
          "base_uri": "https://localhost:8080/",
          "height": 67
        }
      },
      "source": [
        "k+=1\n",
        "(input_seq, actual_output), _ = next(train_gen)\n",
        "decoded_sentence = decode_sequence(input_seq)\n",
        "print('Input English sentence:', X_test[k:k+1].values[0])\n",
        "print('Actual hindi Translation:', y_test[k:k+1].values[0][6:-4])\n",
        "print('Predicted hindi Translation:', decoded_sentence[:-4])"
      ],
      "execution_count": null,
      "outputs": [
        {
          "output_type": "stream",
          "text": [
            "Input English sentence: he wants these shirts washed\n",
            "Actual hindi Translation:  उसे ये कमीज़ें धुलवानीं हैं \n",
            "Predicted hindi Translation:  उसे ज़ुकाम वे खाना किताबें देना हैं \n"
          ],
          "name": "stdout"
        }
      ]
    },
    {
      "cell_type": "code",
      "metadata": {
        "id": "KEZZXkQlS7dA",
        "outputId": "0dfed936-e0c9-4c25-d078-b8c55ff58a4e",
        "colab": {
          "base_uri": "https://localhost:8080/",
          "height": 67
        }
      },
      "source": [
        "\n",
        "k+=1\n",
        "(input_seq, actual_output), _ = next(train_gen)\n",
        "decoded_sentence = decode_sequence(input_seq)\n",
        "print('Input English sentence:', X_test[k:k+1].values[0])\n",
        "print('Actual hindi Translation:', y_test[k:k+1].values[0][6:-4])\n",
        "print('Predicted hindi Translation:', decoded_sentence[:-4])"
      ],
      "execution_count": null,
      "outputs": [
        {
          "output_type": "stream",
          "text": [
            "Input English sentence: it is better to ignore this point\n",
            "Actual hindi Translation:  बेहतर होगा कि इस बात को अनदेखा किया जाए \n",
            "Predicted hindi Translation:  बेहतर होगा कि इस बात को अनदेखा किया जाए \n"
          ],
          "name": "stdout"
        }
      ]
    },
    {
      "cell_type": "code",
      "metadata": {
        "id": "MBWUuprcS-Zq",
        "outputId": "683abaad-7d36-4463-d80a-e15979c38e34",
        "colab": {
          "base_uri": "https://localhost:8080/",
          "height": 67
        }
      },
      "source": [
        "k+=1\n",
        "(input_seq, actual_output), _ = next(train_gen)\n",
        "decoded_sentence = decode_sequence(input_seq)\n",
        "print('Input English sentence:', X_test[k:k+1].values[0])\n",
        "print('Actual hindi Translation:', y_test[k:k+1].values[0][6:-4])\n",
        "print('Predicted hindi Translation:', decoded_sentence[:-4])"
      ],
      "execution_count": null,
      "outputs": [
        {
          "output_type": "stream",
          "text": [
            "Input English sentence: we would die without air\n",
            "Actual hindi Translation:  हम हवा के बिना मर जाएँगे \n",
            "Predicted hindi Translation:  हम रोज़ हरे मेज़ है \n"
          ],
          "name": "stdout"
        }
      ]
    },
    {
      "cell_type": "code",
      "metadata": {
        "id": "HzHlrtB2ZPWW",
        "outputId": "2caea51e-bd4e-4eab-83c2-6cc9f23aa25c",
        "colab": {
          "base_uri": "https://localhost:8080/",
          "height": 70
        }
      },
      "source": [
        "k+=1\n",
        "(input_seq, actual_output), _ = next(train_gen)\n",
        "decoded_sentence = decode_sequence(input_seq)\n",
        "print('Input English sentence:', X_test[k:k+1].values[0])\n",
        "print('Actual hindi Translation:', y_test[k:k+1].values[0][6:-4])\n",
        "print('Predicted hindi Translation:', decoded_sentence[:-4])"
      ],
      "execution_count": null,
      "outputs": [
        {
          "output_type": "stream",
          "text": [
            "Input English sentence: we hurried to the train station\n",
            "Actual hindi Translation:  हम जल्दबाज़ी में ट्रेन स्टेशन गए \n",
            "Predicted hindi Translation:  हम जब में वाक्य ही चाहिए थी \n"
          ],
          "name": "stdout"
        }
      ]
    },
    {
      "cell_type": "code",
      "metadata": {
        "id": "yOh4vaVNZQhN",
        "outputId": "cc656c79-f1e6-4244-b1b3-cebcd36b381a",
        "colab": {
          "base_uri": "https://localhost:8080/",
          "height": 70
        }
      },
      "source": [
        "k+=1\n",
        "(input_seq, actual_output), _ = next(train_gen)\n",
        "decoded_sentence = decode_sequence(input_seq)\n",
        "print('Input English sentence:', X_test[k:k+1].values[0])\n",
        "print('Actual hindi Translation:', y_test[k:k+1].values[0][6:-4])\n",
        "print('Predicted hindi Translation:', decoded_sentence[:-4])"
      ],
      "execution_count": null,
      "outputs": [
        {
          "output_type": "stream",
          "text": [
            "Input English sentence: what time does your watch say it is now\n",
            "Actual hindi Translation:  तुम्हारी घड़ी अब क्या समय बता रही है \n",
            "Predicted hindi Translation:  तुम्हारी घड़ी अब क्या समय बता रही है \n"
          ],
          "name": "stdout"
        }
      ]
    },
    {
      "cell_type": "code",
      "metadata": {
        "id": "TUIhsbBTZR35",
        "outputId": "aa06a6f5-4255-4eaf-b970-6aeb93745301",
        "colab": {
          "base_uri": "https://localhost:8080/",
          "height": 70
        }
      },
      "source": [
        "k+=1\n",
        "(input_seq, actual_output), _ = next(train_gen)\n",
        "decoded_sentence = decode_sequence(input_seq)\n",
        "print('Input English sentence:', X_test[k:k+1].values[0])\n",
        "print('Actual hindi Translation:', y_test[k:k+1].values[0][6:-4])\n",
        "print('Predicted hindi Translation:', decoded_sentence[:-4])"
      ],
      "execution_count": null,
      "outputs": [
        {
          "output_type": "stream",
          "text": [
            "Input English sentence: im sorry but i cant hear you well\n",
            "Actual hindi Translation:  माफ़ कीजिएगा पर मैं आपको ठीक से सुन नहीं पा रहा हूँ \n",
            "Predicted hindi Translation:  माफ़ कीजिएगा पर मैं अपनी मदद से चिट्ठी खरीदने का पछ\n"
          ],
          "name": "stdout"
        }
      ]
    },
    {
      "cell_type": "code",
      "metadata": {
        "id": "dccEa9vHZS6z",
        "outputId": "a9b56c36-652e-4a18-d900-2144d96be403",
        "colab": {
          "base_uri": "https://localhost:8080/",
          "height": 70
        }
      },
      "source": [
        "k+=1\n",
        "(input_seq, actual_output), _ = next(train_gen)\n",
        "decoded_sentence = decode_sequence(input_seq)\n",
        "print('Input English sentence:', X_test[k:k+1].values[0])\n",
        "print('Actual hindi Translation:', y_test[k:k+1].values[0][6:-4])\n",
        "print('Predicted hindi Translation:', decoded_sentence[:-4])"
      ],
      "execution_count": null,
      "outputs": [
        {
          "output_type": "stream",
          "text": [
            "Input English sentence: are you free on tuesday\n",
            "Actual hindi Translation:  तुम मंगलवार को खाली हो क्या \n",
            "Predicted hindi Translation:  तुम मंगलवार को खाली हो क्या \n"
          ],
          "name": "stdout"
        }
      ]
    },
    {
      "cell_type": "code",
      "metadata": {
        "id": "A4Yop9V1mpis",
        "outputId": "45e8cdd6-16af-4ec0-bcd2-d8848164b130",
        "colab": {
          "base_uri": "https://localhost:8080/",
          "height": 70
        }
      },
      "source": [
        "k+=1\n",
        "(input_seq, actual_output), _ = next(train_gen)\n",
        "decoded_sentence = decode_sequence(input_seq)\n",
        "print('Input English sentence:', X_test[k:k+1].values[0])\n",
        "print('Actual hindi Translation:', y_test[k:k+1].values[0][6:-4])\n",
        "print('Predicted hindi Translation:', decoded_sentence[:-4])"
      ],
      "execution_count": null,
      "outputs": [
        {
          "output_type": "stream",
          "text": [
            "Input English sentence: strange as it may sound this is true\n",
            "Actual hindi Translation:  चाहे सुनने में जितना भी अजीब लगे यह सच है \n",
            "Predicted hindi Translation:  एक अरब लोग सबसे कीमती अब अब रहा है \n"
          ],
          "name": "stdout"
        }
      ]
    },
    {
      "cell_type": "code",
      "metadata": {
        "id": "cFeVKG_XHnVu",
        "outputId": "94b0df79-f7fa-4036-b0b8-b7a56d3f2e6c",
        "colab": {
          "base_uri": "https://localhost:8080/",
          "height": 70
        }
      },
      "source": [
        "k+=1\n",
        "(input_seq, actual_output), _ = next(train_gen)\n",
        "decoded_sentence = decode_sequence(input_seq)\n",
        "print('Input English sentence:', X_test[k:k+1].values[0])\n",
        "print('Actual hindi Translation:', y_test[k:k+1].values[0][6:-4])\n",
        "print('Predicted hindi Translation:', decoded_sentence[:-4])"
      ],
      "execution_count": null,
      "outputs": [
        {
          "output_type": "stream",
          "text": [
            "Input English sentence: he came back from america\n",
            "Actual hindi Translation:  वह अमरीका से वापस आ गया \n",
            "Predicted hindi Translation:  वह एक पैसे जा रहा है \n"
          ],
          "name": "stdout"
        }
      ]
    },
    {
      "cell_type": "code",
      "metadata": {
        "id": "fGJy5AgzI20X",
        "outputId": "0b5dcb87-ee79-4647-d08b-97481274dcae",
        "colab": {
          "base_uri": "https://localhost:8080/",
          "height": 70
        }
      },
      "source": [
        "k+=1\n",
        "(input_seq, actual_output), _ = next(train_gen)\n",
        "decoded_sentence = decode_sequence(input_seq)\n",
        "print('Input English sentence:', X_test[k:k+1].values[0])\n",
        "print('Actual hindi Translation:', y_test[k:k+1].values[0][6:-4])\n",
        "print('Predicted hindi Translation:', decoded_sentence[:-4])"
      ],
      "execution_count": null,
      "outputs": [
        {
          "output_type": "stream",
          "text": [
            "Input English sentence: why dont you come visit us\n",
            "Actual hindi Translation:  तुम हमसे मिलने क्यों नहीं आते \n",
            "Predicted hindi Translation:  तुम किस नाप के बारे में करता है \n"
          ],
          "name": "stdout"
        }
      ]
    },
    {
      "cell_type": "code",
      "metadata": {
        "id": "5hhkiO-hI4Yd"
      },
      "source": [
        ""
      ],
      "execution_count": null,
      "outputs": []
    }
  ]
}